{
  "nbformat": 4,
  "nbformat_minor": 0,
  "metadata": {
    "kernelspec": {
      "display_name": "Python 3",
      "language": "python",
      "name": "python3"
    },
    "language_info": {
      "codemirror_mode": {
        "name": "ipython",
        "version": 3
      },
      "file_extension": ".py",
      "mimetype": "text/x-python",
      "name": "python",
      "nbconvert_exporter": "python",
      "pygments_lexer": "ipython3",
      "version": "3.7.7"
    },
    "colab": {
      "name": "Chaitanya Caltech-50-on-50-challenge.ipynb",
      "provenance": [],
      "collapsed_sections": [],
      "include_colab_link": true
    }
  },
  "cells": [
    {
      "cell_type": "markdown",
      "metadata": {
        "id": "view-in-github",
        "colab_type": "text"
      },
      "source": [
        "<a href=\"https://colab.research.google.com/github/The-Alchemists/Caltech-50-on-50-challenge/blob/master/Chaitanya_Caltech_50_on_50_challenge.ipynb\" target=\"_parent\"><img src=\"https://colab.research.google.com/assets/colab-badge.svg\" alt=\"Open In Colab\"/></a>"
      ]
    },
    {
      "cell_type": "markdown",
      "metadata": {
        "id": "s1_OLzpM4iYR",
        "colab_type": "text"
      },
      "source": [
        "### Question 1:\n",
        "\n",
        "Given a list of numbers, return whether any two sums to k.\n",
        "For example, given [10, 15, 3, 7] and k of 17, return true since 10 + 7 is 17.\n",
        "Bonus: Can you do this in one pass?"
      ]
    },
    {
      "cell_type": "code",
      "metadata": {
        "id": "S8-i3RKy4iYS",
        "colab_type": "code",
        "colab": {}
      },
      "source": [
        "def question1(listofnum,k):\n",
        "    for i in range(len(listofnum)-1):\n",
        "        for j in range(i+1,len(listofnum)):\n",
        "            if listofnum[i] + listofnum[j] == k:\n",
        "                #For debugging\n",
        "                # print(listofnum[i],listofnum[j]) \n",
        "                return True\n",
        "    else:\n",
        "        return False"
      ],
      "execution_count": null,
      "outputs": []
    },
    {
      "cell_type": "code",
      "metadata": {
        "id": "5HIpKzDl4iYV",
        "colab_type": "code",
        "colab": {
          "base_uri": "https://localhost:8080/",
          "height": 35
        },
        "outputId": "bb74cfa1-9837-4e67-be4f-26c8d4b605ca"
      },
      "source": [
        "question1([10,15,3,7],10)"
      ],
      "execution_count": null,
      "outputs": [
        {
          "output_type": "execute_result",
          "data": {
            "text/plain": [
              "True"
            ]
          },
          "metadata": {
            "tags": []
          },
          "execution_count": 3
        }
      ]
    },
    {
      "cell_type": "markdown",
      "metadata": {
        "id": "GQZxI4wC4iYX",
        "colab_type": "text"
      },
      "source": [
        "### Question 2\n",
        "\n",
        "This problem was asked by Uber.\n",
        "\n",
        "Given an array of integers, return a new array such that each element at index i of the new array\n",
        "is the product of all the numbers in the original array except the one at i.\n",
        "\n",
        "For example, if our input was [1, 2, 3, 4, 5], the expected output would be [120, 60, 40, 30, 24].\n",
        "\n",
        "If our input was [3, 2, 1], the expected output would be [2, 3, 6].\n",
        "Follow-up: what if you can't use division?"
      ]
    },
    {
      "cell_type": "code",
      "metadata": {
        "id": "rnAxKI6R4iYX",
        "colab_type": "code",
        "colab": {}
      },
      "source": [
        "import numpy as np"
      ],
      "execution_count": null,
      "outputs": []
    },
    {
      "cell_type": "code",
      "metadata": {
        "id": "rGjwbM5E4iYZ",
        "colab_type": "code",
        "colab": {}
      },
      "source": [
        "def question2(thelist):\n",
        "    l = []\n",
        "    for i in range(len(thelist)):\n",
        "        temp = thelist.pop(0)\n",
        "        v = np.prod(thelist)\n",
        "        thelist.append(temp)\n",
        "        # print(thelist)\n",
        "        l.append(v)\n",
        "    return(l)   "
      ],
      "execution_count": null,
      "outputs": []
    },
    {
      "cell_type": "code",
      "metadata": {
        "id": "udlM2TPO4iYb",
        "colab_type": "code",
        "colab": {
          "base_uri": "https://localhost:8080/",
          "height": 35
        },
        "outputId": "73d76641-3731-480e-ff37-cc04b5f79140"
      },
      "source": [
        "question2([3,2,1])"
      ],
      "execution_count": null,
      "outputs": [
        {
          "output_type": "execute_result",
          "data": {
            "text/plain": [
              "[2, 3, 6]"
            ]
          },
          "metadata": {
            "tags": []
          },
          "execution_count": 44
        }
      ]
    },
    {
      "cell_type": "markdown",
      "metadata": {
        "id": "KKjtx2sB4iYd",
        "colab_type": "text"
      },
      "source": [
        "### Question 3\n",
        "\n",
        "This problem was asked by Google.\n",
        "\n",
        "Given the root to a binary tree, implement serialize(root), which serializes the tree into a string,\n",
        "and deserialize(s), which deserializes the string back into the tree."
      ]
    },
    {
      "cell_type": "markdown",
      "metadata": {
        "id": "kWIsd3KH9eKL",
        "colab_type": "text"
      },
      "source": [
        "#### Manish's Method"
      ]
    },
    {
      "cell_type": "code",
      "metadata": {
        "id": "2d120Ywr9dgu",
        "colab_type": "code",
        "colab": {
          "base_uri": "https://localhost:8080/",
          "height": 74
        },
        "outputId": "8b3e6440-d337-4760-d77f-7192e921c360"
      },
      "source": [
        "import json\n",
        "#creating a tree \n",
        "class Node:\n",
        "    def __init__(self, data):\n",
        "        self.data = data\n",
        "        self.left = None\n",
        "        self.right = None\n",
        "    \n",
        "    def __repr__(self):\n",
        "        return str(self.data)\n",
        "\n",
        "def serialize(root):\n",
        "    if not root:\n",
        "        return None\n",
        "\n",
        "    serialized_tree = dict()\n",
        "    serialized_l = serialize(root.left)\n",
        "    serialized_r = serialize(root.right)\n",
        "\n",
        "    serialized_tree['data'] = root.data\n",
        "    if serialized_l:\n",
        "        serialized_tree['left'] = serialized_l\n",
        "    if serialized_r:\n",
        "        serialized_tree['right'] = serialized_r\n",
        "\n",
        "    return json.dumps(serialized_tree)\n",
        "\n",
        "\n",
        "def deserialize(s):\n",
        "    serialized_tree = json.loads(s)\n",
        "\n",
        "    node = Node(serialized_tree['data'])\n",
        "    if 'left' in serialized_tree:\n",
        "        node.left = deserialize(serialized_tree['left'])\n",
        "    if 'right' in serialized_tree:\n",
        "        node.right = deserialize(serialized_tree['right'])\n",
        "\n",
        "    return node,serialized_tree\n",
        "\n",
        "\n",
        "a = Node('a')\n",
        "b = Node('b')\n",
        "c = Node('c')\n",
        "d = Node('d')\n",
        "e = Node('e')\n",
        "f = Node('f')\n",
        "g = Node('g')\n",
        "a.left = b\n",
        "a.right = c\n",
        "b.left = d\n",
        "b.right = e\n",
        "c.left = f\n",
        "c.right = g\n",
        "\n",
        "serialized_a = serialize(a)\n",
        "print(serialized_a)\n",
        "\n",
        "deserialized_a,s = deserialize(serialized_a)\n",
        "# str(deserialized_a) == \"a\"\n",
        "print(s)"
      ],
      "execution_count": null,
      "outputs": [
        {
          "output_type": "stream",
          "text": [
            "{\"data\": \"a\", \"left\": \"{\\\"data\\\": \\\"b\\\", \\\"left\\\": \\\"{\\\\\\\"data\\\\\\\": \\\\\\\"d\\\\\\\"}\\\", \\\"right\\\": \\\"{\\\\\\\"data\\\\\\\": \\\\\\\"e\\\\\\\"}\\\"}\", \"right\": \"{\\\"data\\\": \\\"c\\\", \\\"left\\\": \\\"{\\\\\\\"data\\\\\\\": \\\\\\\"f\\\\\\\"}\\\", \\\"right\\\": \\\"{\\\\\\\"data\\\\\\\": \\\\\\\"g\\\\\\\"}\\\"}\"}\n",
            "{'data': 'a', 'left': '{\"data\": \"b\", \"left\": \"{\\\\\"data\\\\\": \\\\\"d\\\\\"}\", \"right\": \"{\\\\\"data\\\\\": \\\\\"e\\\\\"}\"}', 'right': '{\"data\": \"c\", \"left\": \"{\\\\\"data\\\\\": \\\\\"f\\\\\"}\", \"right\": \"{\\\\\"data\\\\\": \\\\\"g\\\\\"}\"}'}\n"
          ],
          "name": "stdout"
        }
      ]
    },
    {
      "cell_type": "markdown",
      "metadata": {
        "id": "SEfS7LWW4iYg",
        "colab_type": "text"
      },
      "source": [
        "### Question 4\n",
        "\n",
        "This problem was asked by Nvidia.\n",
        "\n",
        "Given an array of integers, find the first missing positive integer in linear time and constant\n",
        "space. \n",
        "\n",
        "In other words, find the lowest positive integer that does not exist in the array. The array\n",
        "can contain duplicates and negative numbers as well.\n",
        "\n",
        "For example, the input [3, 4, -1, 1] should give 2. The input [1, 2, 0] should give 3.\n",
        "You can modify the input array in-place."
      ]
    },
    {
      "cell_type": "code",
      "metadata": {
        "id": "c3wUPwyH4iYg",
        "colab_type": "code",
        "colab": {}
      },
      "source": [
        "def question4(thelist): \n",
        "    a = thelist\n",
        "    i = 1\n",
        "    while True:\n",
        "        if i not in a:\n",
        "            return i\n",
        "        i+=1      "
      ],
      "execution_count": 34,
      "outputs": []
    },
    {
      "cell_type": "code",
      "metadata": {
        "id": "RAXgzvRR4iYi",
        "colab_type": "code",
        "colab": {
          "base_uri": "https://localhost:8080/",
          "height": 35
        },
        "outputId": "e231be3c-f122-4995-bf5c-566a6d099cb9"
      },
      "source": [
        "question4([-10,-20,-30])"
      ],
      "execution_count": 36,
      "outputs": [
        {
          "output_type": "execute_result",
          "data": {
            "text/plain": [
              "1"
            ]
          },
          "metadata": {
            "tags": []
          },
          "execution_count": 36
        }
      ]
    },
    {
      "cell_type": "markdown",
      "metadata": {
        "id": "8jdeEM5J4_ve",
        "colab_type": "text"
      },
      "source": [
        "### Question 5\n",
        "\n",
        "This problem was asked by Jane Street.\n",
        "cons(a, b) constructs a pair, and car(pair) and cdr(pair) returns the first and last element of that\n",
        "pair. For example, car(cons(3, 4)) returns 3, and cdr(cons(3, 4)) returns 4.\n",
        "Given this implementation of cons:\n",
        "\n",
        "    def cons(a,b):\n",
        "        return lambda f:f(a,b)\n",
        "\n",
        "Implement car and cdr."
      ]
    },
    {
      "cell_type": "code",
      "metadata": {
        "id": "0aMm7E914iYk",
        "colab_type": "code",
        "colab": {}
      },
      "source": [
        "def cons(a,b):\n",
        "  return lambda f:f(a,b)"
      ],
      "execution_count": null,
      "outputs": []
    },
    {
      "cell_type": "code",
      "metadata": {
        "id": "oYjV2S2o52At",
        "colab_type": "code",
        "colab": {}
      },
      "source": [
        "def car(function):\n",
        "  return function(lambda x,y:x)\n",
        "\n",
        "def cdr(function):\n",
        "  return function(lambda x,y:y)"
      ],
      "execution_count": null,
      "outputs": []
    },
    {
      "cell_type": "code",
      "metadata": {
        "id": "8Atj7zPW53aE",
        "colab_type": "code",
        "colab": {
          "base_uri": "https://localhost:8080/",
          "height": 54
        },
        "outputId": "afb61397-7ae6-4177-d387-ab960d465ca8"
      },
      "source": [
        "print(car(cons(1,2)))\n",
        "print(cdr(cons(1,2)))"
      ],
      "execution_count": null,
      "outputs": [
        {
          "output_type": "stream",
          "text": [
            "1\n",
            "2\n"
          ],
          "name": "stdout"
        }
      ]
    },
    {
      "cell_type": "markdown",
      "metadata": {
        "id": "ytrwLjoDDNcF",
        "colab_type": "text"
      },
      "source": [
        "### Question 6\n",
        "\n",
        "This problem was asked by Google.\n",
        "\n",
        "An XOR linked list is a more memory efficient doubly linked list. Instead of each node holding next and prev fields, it holds a field named both, which is an XOR of the next node and the previous node. Implement an XOR linked list; it has an add(element) which adds the element to the end, and a get(index) which returns the node at index. \n",
        "\n",
        "If using a language that has no pointers (such as Python), you can assume you have access to get_pointer and dereference_pointer functions that converts between nodes and memory addresses."
      ]
    },
    {
      "cell_type": "markdown",
      "metadata": {
        "id": "wh6di_Wv8cp3",
        "colab_type": "text"
      },
      "source": [
        "#### Manish's Method"
      ]
    },
    {
      "cell_type": "code",
      "metadata": {
        "id": "5L1ng-Urq3to",
        "colab_type": "code",
        "colab": {}
      },
      "source": [
        "class Node:\n",
        "    def __init__(self, data):\n",
        "        self.data = data\n",
        "        self.both = id(data)\n",
        "\n",
        "    def __repr__(self):\n",
        "        return str(self.data)"
      ],
      "execution_count": null,
      "outputs": []
    },
    {
      "cell_type": "code",
      "metadata": {
        "id": "se9f0cGO4zH4",
        "colab_type": "code",
        "colab": {}
      },
      "source": [
        "class LinkedList:\n",
        "\n",
        "  def __init__(self, node):\n",
        "    self.head = node\n",
        "    self.tail = node \n",
        "    self.head.both = 0        # is this Node.both ?\n",
        "    self.tail.both = 0\n",
        "\n",
        "  def add(self, element):\n",
        "    self.tail.both ^= id(element.data)\n",
        "    element.both, self.tail = id(self.tail.data), element \n",
        "     \n",
        "  def get(self, index):\n",
        "    prev_node_add = 0\n",
        "    result = self.head\n",
        "    for i in range(index):\n",
        "      nxt_node_add = prev_node_add ^ result.both\n",
        "      prev_node_add = id(result.data)\n",
        "      result = id_map[nxt_node_add]   # Can we not use dictionary here but outside ?\n",
        "    return result.data"
      ],
      "execution_count": null,
      "outputs": []
    },
    {
      "cell_type": "code",
      "metadata": {
        "id": "E8nwBfp141vP",
        "colab_type": "code",
        "colab": {}
      },
      "source": [
        "a = Node(\"a\")\n",
        "b = Node(\"b\")\n",
        "c = Node(\"c\")\n",
        "d = Node(\"d\")\n",
        "e = Node(\"e\")\n",
        "\n",
        "id_map = dict()\n",
        "id_map[id(\"a\")] = a\n",
        "id_map[id(\"b\")] = b\n",
        "id_map[id(\"c\")] = c\n",
        "id_map[id(\"d\")] = d\n",
        "id_map[id(\"e\")] = e"
      ],
      "execution_count": null,
      "outputs": []
    },
    {
      "cell_type": "code",
      "metadata": {
        "id": "_9LBsnwM44hg",
        "colab_type": "code",
        "colab": {}
      },
      "source": [
        "llist = LinkedList(c)\n",
        "llist.add(d)\n",
        "llist.add(e)\n",
        "llist.add(a)"
      ],
      "execution_count": null,
      "outputs": []
    },
    {
      "cell_type": "code",
      "metadata": {
        "id": "O9mj_VrK5AGk",
        "colab_type": "code",
        "colab": {
          "base_uri": "https://localhost:8080/",
          "height": 35
        },
        "outputId": "6d8458a9-54c5-4626-f862-5a2b7892cb14"
      },
      "source": [
        "llist.get(3)"
      ],
      "execution_count": null,
      "outputs": [
        {
          "output_type": "execute_result",
          "data": {
            "text/plain": [
              "'a'"
            ]
          },
          "metadata": {
            "tags": []
          },
          "execution_count": 27
        }
      ]
    },
    {
      "cell_type": "markdown",
      "metadata": {
        "id": "aPWTkAsc8ZNj",
        "colab_type": "text"
      },
      "source": [
        "### Question 7\n",
        "\n",
        "This problem was asked by Facebook.\n",
        "\n",
        "Given the mapping a = 1, b = 2, ... z = 26, and an encoded message, count the number of ways it can be decoded. For example, the message '111' would give 3, since it could be decoded as 'aaa', 'ka', and 'ak'. \n",
        "\n",
        "You can assume that the messages are decodable. For example, '001' is not allowed."
      ]
    },
    {
      "cell_type": "markdown",
      "metadata": {
        "id": "v33viNiXdJi0",
        "colab_type": "text"
      },
      "source": [
        "#### Manish's Method"
      ]
    },
    {
      "cell_type": "code",
      "metadata": {
        "id": "1OD6n_3jRbra",
        "colab_type": "code",
        "colab": {}
      },
      "source": [
        "def char(code):\n",
        "    code = int(code)\n",
        "    return 0 if code > 26 or code < 1 else 1\n",
        "\n",
        "def get_message_c(code):\n",
        "    code_string = str(code)\n",
        "    if len(code_string) == 1:\n",
        "        count = 1\n",
        "    elif len(code_string) == 2:\n",
        "        count = 1 + char(code)\n",
        "    else:\n",
        "        count = get_message_c(code_string[1:])\n",
        "        if char(code_string[:2]):\n",
        "            count += get_message_c(code_string[2:])\n",
        "\n",
        "    return count\n",
        "\n"
      ],
      "execution_count": 31,
      "outputs": []
    },
    {
      "cell_type": "code",
      "metadata": {
        "id": "WcJEDuiyIfcp",
        "colab_type": "code",
        "colab": {
          "base_uri": "https://localhost:8080/",
          "height": 35
        },
        "outputId": "69689da6-06d6-4729-9f8a-6aa9b2e40e8d"
      },
      "source": [
        "get_message_c(111)"
      ],
      "execution_count": 32,
      "outputs": [
        {
          "output_type": "execute_result",
          "data": {
            "text/plain": [
              "3"
            ]
          },
          "metadata": {
            "tags": []
          },
          "execution_count": 32
        }
      ]
    },
    {
      "cell_type": "markdown",
      "metadata": {
        "id": "J7jkeVItdPfO",
        "colab_type": "text"
      },
      "source": [
        ""
      ]
    },
    {
      "cell_type": "code",
      "metadata": {
        "id": "SPf8ANeLInhX",
        "colab_type": "code",
        "colab": {}
      },
      "source": [
        ""
      ],
      "execution_count": null,
      "outputs": []
    }
  ]
}