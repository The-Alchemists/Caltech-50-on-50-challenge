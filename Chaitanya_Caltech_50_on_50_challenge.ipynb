{
  "nbformat": 4,
  "nbformat_minor": 0,
  "metadata": {
    "kernelspec": {
      "display_name": "Python 3",
      "language": "python",
      "name": "python3"
    },
    "language_info": {
      "codemirror_mode": {
        "name": "ipython",
        "version": 3
      },
      "file_extension": ".py",
      "mimetype": "text/x-python",
      "name": "python",
      "nbconvert_exporter": "python",
      "pygments_lexer": "ipython3",
      "version": "3.7.7"
    },
    "colab": {
      "name": "Chaitanya Caltech-50-on-50-challenge.ipynb",
      "provenance": [],
      "collapsed_sections": [],
      "include_colab_link": true
    }
  },
  "cells": [
    {
      "cell_type": "markdown",
      "metadata": {
        "id": "view-in-github",
        "colab_type": "text"
      },
      "source": [
        "<a href=\"https://colab.research.google.com/github/The-Alchemists/Caltech-50-on-50-challenge/blob/master/Chaitanya_Caltech_50_on_50_challenge.ipynb\" target=\"_parent\"><img src=\"https://colab.research.google.com/assets/colab-badge.svg\" alt=\"Open In Colab\"/></a>"
      ]
    },
    {
      "cell_type": "markdown",
      "metadata": {
        "id": "s1_OLzpM4iYR",
        "colab_type": "text"
      },
      "source": [
        "### Question 1:\n",
        "\n",
        "Given a list of numbers, return whether any two sums to k.\n",
        "For example, given [10, 15, 3, 7] and k of 17, return true since 10 + 7 is 17.\n",
        "Bonus: Can you do this in one pass?"
      ]
    },
    {
      "cell_type": "code",
      "metadata": {
        "id": "S8-i3RKy4iYS",
        "colab_type": "code",
        "colab": {}
      },
      "source": [
        "def question1(listofnum,k):\n",
        "    for i in range(len(listofnum)-1):\n",
        "        for j in range(i+1,len(listofnum)):\n",
        "            if listofnum[i] + listofnum[j] == k:\n",
        "                #For debugging\n",
        "                # print(listofnum[i],listofnum[j]) \n",
        "                return True\n",
        "    else:\n",
        "        return False"
      ],
      "execution_count": null,
      "outputs": []
    },
    {
      "cell_type": "code",
      "metadata": {
        "id": "5HIpKzDl4iYV",
        "colab_type": "code",
        "colab": {
          "base_uri": "https://localhost:8080/",
          "height": 35
        },
        "outputId": "bb74cfa1-9837-4e67-be4f-26c8d4b605ca"
      },
      "source": [
        "question1([10,15,3,7],10)"
      ],
      "execution_count": null,
      "outputs": [
        {
          "output_type": "execute_result",
          "data": {
            "text/plain": [
              "True"
            ]
          },
          "metadata": {
            "tags": []
          },
          "execution_count": 3
        }
      ]
    },
    {
      "cell_type": "markdown",
      "metadata": {
        "id": "GQZxI4wC4iYX",
        "colab_type": "text"
      },
      "source": [
        "### Question 2\n",
        "\n",
        "This problem was asked by Uber.\n",
        "\n",
        "Given an array of integers, return a new array such that each element at index i of the new array\n",
        "is the product of all the numbers in the original array except the one at i.\n",
        "\n",
        "For example, if our input was [1, 2, 3, 4, 5], the expected output would be [120, 60, 40, 30, 24].\n",
        "\n",
        "If our input was [3, 2, 1], the expected output would be [2, 3, 6].\n",
        "Follow-up: what if you can't use division?"
      ]
    },
    {
      "cell_type": "code",
      "metadata": {
        "id": "rnAxKI6R4iYX",
        "colab_type": "code",
        "colab": {}
      },
      "source": [
        "import numpy as np"
      ],
      "execution_count": null,
      "outputs": []
    },
    {
      "cell_type": "code",
      "metadata": {
        "id": "rGjwbM5E4iYZ",
        "colab_type": "code",
        "colab": {}
      },
      "source": [
        "def question2(thelist):\n",
        "    l = []\n",
        "    for i in range(len(thelist)):\n",
        "        temp = thelist.pop(0)\n",
        "        v = np.prod(thelist)\n",
        "        thelist.append(temp)\n",
        "        # print(thelist)\n",
        "        l.append(v)\n",
        "    return(l)   "
      ],
      "execution_count": null,
      "outputs": []
    },
    {
      "cell_type": "code",
      "metadata": {
        "id": "udlM2TPO4iYb",
        "colab_type": "code",
        "colab": {
          "base_uri": "https://localhost:8080/",
          "height": 35
        },
        "outputId": "73d76641-3731-480e-ff37-cc04b5f79140"
      },
      "source": [
        "question2([3,2,1])"
      ],
      "execution_count": null,
      "outputs": [
        {
          "output_type": "execute_result",
          "data": {
            "text/plain": [
              "[2, 3, 6]"
            ]
          },
          "metadata": {
            "tags": []
          },
          "execution_count": 44
        }
      ]
    },
    {
      "cell_type": "markdown",
      "metadata": {
        "id": "KKjtx2sB4iYd",
        "colab_type": "text"
      },
      "source": [
        "### Question 3\n",
        "\n",
        "This problem was asked by Google.\n",
        "\n",
        "Given the root to a binary tree, implement serialize(root), which serializes the tree into a string,\n",
        "and deserialize(s), which deserializes the string back into the tree."
      ]
    },
    {
      "cell_type": "markdown",
      "metadata": {
        "id": "kWIsd3KH9eKL",
        "colab_type": "text"
      },
      "source": [
        "#### Manish's Method"
      ]
    },
    {
      "cell_type": "code",
      "metadata": {
        "id": "Kp1shKtCeWbW",
        "colab_type": "code",
        "colab": {}
      },
      "source": [
        "import json"
      ],
      "execution_count": null,
      "outputs": []
    },
    {
      "cell_type": "code",
      "metadata": {
        "id": "2d120Ywr9dgu",
        "colab_type": "code",
        "colab": {}
      },
      "source": [
        "#creating a tree \n",
        "class Node:\n",
        "    def __init__(self, data):\n",
        "        self.data = data\n",
        "        self.left = None\n",
        "        self.right = None\n",
        "    \n",
        "    def __repr__(self):\n",
        "        return str(self.data)"
      ],
      "execution_count": null,
      "outputs": []
    },
    {
      "cell_type": "code",
      "metadata": {
        "id": "5QeCUj3JeZyX",
        "colab_type": "code",
        "colab": {}
      },
      "source": [
        "def serialize(root):\n",
        "    if not root:\n",
        "        return None\n",
        "\n",
        "    serialized_tree = dict()\n",
        "    serialized_l = serialize(root.left)\n",
        "    serialized_r = serialize(root.right)\n",
        "\n",
        "    serialized_tree['data'] = root.data\n",
        "    if serialized_l:\n",
        "        serialized_tree['left'] = serialized_l\n",
        "    if serialized_r:\n",
        "        serialized_tree['right'] = serialized_r\n",
        "\n",
        "    return json.dumps(serialized_tree)\n",
        "\n",
        "\n",
        "def deserialize(s):\n",
        "    serialized_tree = json.loads(s)\n",
        "\n",
        "    node = Node(serialized_tree['data'])\n",
        "    if 'left' in serialized_tree:\n",
        "        node.left = deserialize(serialized_tree['left'])\n",
        "    if 'right' in serialized_tree:\n",
        "        node.right = deserialize(serialized_tree['right'])\n",
        "\n",
        "    return node,serialized_tree"
      ],
      "execution_count": null,
      "outputs": []
    },
    {
      "cell_type": "code",
      "metadata": {
        "id": "90zA7OsceeG_",
        "colab_type": "code",
        "colab": {
          "base_uri": "https://localhost:8080/",
          "height": 74
        },
        "outputId": "1208ac0b-06b7-4bcd-b6e0-bac40c5000fa"
      },
      "source": [
        "a = Node('a')\n",
        "b = Node('b')\n",
        "c = Node('c')\n",
        "d = Node('d')\n",
        "e = Node('e')\n",
        "f = Node('f')\n",
        "g = Node('g')\n",
        "a.left = b\n",
        "a.right = c\n",
        "b.left = d\n",
        "b.right = e\n",
        "c.left = f\n",
        "c.right = g\n",
        "\n",
        "serialized_a = serialize(a)\n",
        "print(serialized_a)\n",
        "\n",
        "deserialized_a,s = deserialize(serialized_a)\n",
        "# str(deserialized_a) == \"a\"\n",
        "print(s)"
      ],
      "execution_count": null,
      "outputs": [
        {
          "output_type": "stream",
          "text": [
            "{\"data\": \"a\", \"left\": \"{\\\"data\\\": \\\"b\\\", \\\"left\\\": \\\"{\\\\\\\"data\\\\\\\": \\\\\\\"d\\\\\\\"}\\\", \\\"right\\\": \\\"{\\\\\\\"data\\\\\\\": \\\\\\\"e\\\\\\\"}\\\"}\", \"right\": \"{\\\"data\\\": \\\"c\\\", \\\"left\\\": \\\"{\\\\\\\"data\\\\\\\": \\\\\\\"f\\\\\\\"}\\\", \\\"right\\\": \\\"{\\\\\\\"data\\\\\\\": \\\\\\\"g\\\\\\\"}\\\"}\"}\n",
            "{'data': 'a', 'left': '{\"data\": \"b\", \"left\": \"{\\\\\"data\\\\\": \\\\\"d\\\\\"}\", \"right\": \"{\\\\\"data\\\\\": \\\\\"e\\\\\"}\"}', 'right': '{\"data\": \"c\", \"left\": \"{\\\\\"data\\\\\": \\\\\"f\\\\\"}\", \"right\": \"{\\\\\"data\\\\\": \\\\\"g\\\\\"}\"}'}\n"
          ],
          "name": "stdout"
        }
      ]
    },
    {
      "cell_type": "markdown",
      "metadata": {
        "id": "SEfS7LWW4iYg",
        "colab_type": "text"
      },
      "source": [
        "### Question 4\n",
        "\n",
        "This problem was asked by Nvidia.\n",
        "\n",
        "Given an array of integers, find the first missing positive integer in linear time and constant\n",
        "space. \n",
        "\n",
        "In other words, find the lowest positive integer that does not exist in the array. The array\n",
        "can contain duplicates and negative numbers as well.\n",
        "\n",
        "For example, the input [3, 4, -1, 1] should give 2. The input [1, 2, 0] should give 3.\n",
        "You can modify the input array in-place."
      ]
    },
    {
      "cell_type": "code",
      "metadata": {
        "id": "c3wUPwyH4iYg",
        "colab_type": "code",
        "colab": {}
      },
      "source": [
        "def question4(thelist): \n",
        "    a = thelist\n",
        "    i = 1\n",
        "    while True:\n",
        "        if i not in a:\n",
        "            return i\n",
        "        i+=1      "
      ],
      "execution_count": null,
      "outputs": []
    },
    {
      "cell_type": "code",
      "metadata": {
        "id": "RAXgzvRR4iYi",
        "colab_type": "code",
        "colab": {
          "base_uri": "https://localhost:8080/",
          "height": 35
        },
        "outputId": "e231be3c-f122-4995-bf5c-566a6d099cb9"
      },
      "source": [
        "question4([-10,-20,-30])"
      ],
      "execution_count": null,
      "outputs": [
        {
          "output_type": "execute_result",
          "data": {
            "text/plain": [
              "1"
            ]
          },
          "metadata": {
            "tags": []
          },
          "execution_count": 36
        }
      ]
    },
    {
      "cell_type": "markdown",
      "metadata": {
        "id": "8jdeEM5J4_ve",
        "colab_type": "text"
      },
      "source": [
        "### Question 5\n",
        "\n",
        "This problem was asked by Jane Street.\n",
        "cons(a, b) constructs a pair, and car(pair) and cdr(pair) returns the first and last element of that\n",
        "pair. For example, car(cons(3, 4)) returns 3, and cdr(cons(3, 4)) returns 4.\n",
        "Given this implementation of cons:\n",
        "\n",
        "    def cons(a,b):\n",
        "        return lambda f:f(a,b)\n",
        "\n",
        "Implement car and cdr."
      ]
    },
    {
      "cell_type": "code",
      "metadata": {
        "id": "0aMm7E914iYk",
        "colab_type": "code",
        "colab": {}
      },
      "source": [
        "def cons(a,b):\n",
        "  return lambda f:f(a,b)"
      ],
      "execution_count": null,
      "outputs": []
    },
    {
      "cell_type": "code",
      "metadata": {
        "id": "oYjV2S2o52At",
        "colab_type": "code",
        "colab": {}
      },
      "source": [
        "def car(function):\n",
        "  return function(lambda x,y:x)\n",
        "\n",
        "def cdr(function):\n",
        "  return function(lambda x,y:y)"
      ],
      "execution_count": null,
      "outputs": []
    },
    {
      "cell_type": "code",
      "metadata": {
        "id": "8Atj7zPW53aE",
        "colab_type": "code",
        "colab": {
          "base_uri": "https://localhost:8080/",
          "height": 54
        },
        "outputId": "afb61397-7ae6-4177-d387-ab960d465ca8"
      },
      "source": [
        "print(car(cons(1,2)))\n",
        "print(cdr(cons(1,2)))"
      ],
      "execution_count": null,
      "outputs": [
        {
          "output_type": "stream",
          "text": [
            "1\n",
            "2\n"
          ],
          "name": "stdout"
        }
      ]
    },
    {
      "cell_type": "markdown",
      "metadata": {
        "id": "ytrwLjoDDNcF",
        "colab_type": "text"
      },
      "source": [
        "### Question 6\n",
        "\n",
        "This problem was asked by Google.\n",
        "\n",
        "An XOR linked list is a more memory efficient doubly linked list. Instead of each node holding next and prev fields, it holds a field named both, which is an XOR of the next node and the previous node. Implement an XOR linked list; it has an add(element) which adds the element to the end, and a get(index) which returns the node at index. \n",
        "\n",
        "If using a language that has no pointers (such as Python), you can assume you have access to get_pointer and dereference_pointer functions that converts between nodes and memory addresses."
      ]
    },
    {
      "cell_type": "markdown",
      "metadata": {
        "id": "wh6di_Wv8cp3",
        "colab_type": "text"
      },
      "source": [
        "#### Manish's Method"
      ]
    },
    {
      "cell_type": "code",
      "metadata": {
        "id": "5L1ng-Urq3to",
        "colab_type": "code",
        "colab": {}
      },
      "source": [
        "class Node:\n",
        "    def __init__(self, data):\n",
        "        self.data = data\n",
        "        self.both = id(data)\n",
        "\n",
        "    def __repr__(self):\n",
        "        return str(self.data)"
      ],
      "execution_count": null,
      "outputs": []
    },
    {
      "cell_type": "code",
      "metadata": {
        "id": "se9f0cGO4zH4",
        "colab_type": "code",
        "colab": {}
      },
      "source": [
        "class LinkedList:\n",
        "\n",
        "  def __init__(self, node):\n",
        "    self.head = node\n",
        "    self.tail = node \n",
        "    self.head.both = 0        # is this Node.both ?\n",
        "    self.tail.both = 0\n",
        "\n",
        "  def add(self, element):\n",
        "    self.tail.both ^= id(element.data)\n",
        "    element.both, self.tail = id(self.tail.data), element \n",
        "     \n",
        "  def get(self, index):\n",
        "    prev_node_add = 0\n",
        "    result = self.head\n",
        "    for i in range(index):\n",
        "      nxt_node_add = prev_node_add ^ result.both\n",
        "      prev_node_add = id(result.data)\n",
        "      result = id_map[nxt_node_add]   # Can we not use dictionary here but outside ?\n",
        "    return result.data"
      ],
      "execution_count": null,
      "outputs": []
    },
    {
      "cell_type": "code",
      "metadata": {
        "id": "E8nwBfp141vP",
        "colab_type": "code",
        "colab": {}
      },
      "source": [
        "a = Node(\"a\")\n",
        "b = Node(\"b\")\n",
        "c = Node(\"c\")\n",
        "d = Node(\"d\")\n",
        "e = Node(\"e\")\n",
        "\n",
        "id_map = dict()\n",
        "id_map[id(\"a\")] = a\n",
        "id_map[id(\"b\")] = b\n",
        "id_map[id(\"c\")] = c\n",
        "id_map[id(\"d\")] = d\n",
        "id_map[id(\"e\")] = e"
      ],
      "execution_count": null,
      "outputs": []
    },
    {
      "cell_type": "code",
      "metadata": {
        "id": "_9LBsnwM44hg",
        "colab_type": "code",
        "colab": {}
      },
      "source": [
        "llist = LinkedList(c)\n",
        "llist.add(d)\n",
        "llist.add(e)\n",
        "llist.add(a)"
      ],
      "execution_count": null,
      "outputs": []
    },
    {
      "cell_type": "code",
      "metadata": {
        "id": "O9mj_VrK5AGk",
        "colab_type": "code",
        "colab": {
          "base_uri": "https://localhost:8080/",
          "height": 35
        },
        "outputId": "6d8458a9-54c5-4626-f862-5a2b7892cb14"
      },
      "source": [
        "llist.get(3)"
      ],
      "execution_count": null,
      "outputs": [
        {
          "output_type": "execute_result",
          "data": {
            "text/plain": [
              "'a'"
            ]
          },
          "metadata": {
            "tags": []
          },
          "execution_count": 27
        }
      ]
    },
    {
      "cell_type": "markdown",
      "metadata": {
        "id": "aPWTkAsc8ZNj",
        "colab_type": "text"
      },
      "source": [
        "### Question 7\n",
        "\n",
        "This problem was asked by Facebook.\n",
        "\n",
        "Given the mapping a = 1, b = 2, ... z = 26, and an encoded message, count the number of ways it can be decoded. For example, the message '111' would give 3, since it could be decoded as 'aaa', 'ka', and 'ak'. \n",
        "\n",
        "You can assume that the messages are decodable. For example, '001' is not allowed."
      ]
    },
    {
      "cell_type": "markdown",
      "metadata": {
        "id": "v33viNiXdJi0",
        "colab_type": "text"
      },
      "source": [
        "#### Manish's Method"
      ]
    },
    {
      "cell_type": "code",
      "metadata": {
        "id": "1OD6n_3jRbra",
        "colab_type": "code",
        "colab": {}
      },
      "source": [
        "def char(code):\n",
        "    code = int(code)\n",
        "    return 0 if code > 26 or code < 1 else 1\n",
        "\n",
        "def get_message_c(code):\n",
        "    code_string = str(code)\n",
        "    if len(code_string) == 1:\n",
        "        count = 1\n",
        "    elif len(code_string) == 2:\n",
        "        count = 1 + char(code)\n",
        "    else:\n",
        "        count = get_message_c(code_string[1:])\n",
        "        if char(code_string[:2]):\n",
        "            count += get_message_c(code_string[2:])\n",
        "\n",
        "    return count\n",
        "\n"
      ],
      "execution_count": null,
      "outputs": []
    },
    {
      "cell_type": "code",
      "metadata": {
        "id": "WcJEDuiyIfcp",
        "colab_type": "code",
        "colab": {
          "base_uri": "https://localhost:8080/",
          "height": 35
        },
        "outputId": "69689da6-06d6-4729-9f8a-6aa9b2e40e8d"
      },
      "source": [
        "get_message_c(111)"
      ],
      "execution_count": null,
      "outputs": [
        {
          "output_type": "execute_result",
          "data": {
            "text/plain": [
              "3"
            ]
          },
          "metadata": {
            "tags": []
          },
          "execution_count": 32
        }
      ]
    },
    {
      "cell_type": "markdown",
      "metadata": {
        "id": "J7jkeVItdPfO",
        "colab_type": "text"
      },
      "source": [
        "### Question 8\n",
        "\n",
        "This problem was asked by Google.\n",
        "\n",
        "A unival tree (which stands for \"universal value\") is a tree where all nodes under it have the same value. Also if the node does not have a child node then that is also considered as a unival Node.\n",
        "\n",
        "Given the root to a binary tree, count the number of unival subtrees."
      ]
    },
    {
      "cell_type": "code",
      "metadata": {
        "id": "zwti98c3eNoY",
        "colab_type": "code",
        "colab": {}
      },
      "source": [
        "class Node:\n",
        "    def __init__(self, data):\n",
        "        self.data = data\n",
        "        self.left = None\n",
        "        self.right = None\n",
        "    def __repr__(self):\n",
        "        return str(self.data)"
      ],
      "execution_count": 34,
      "outputs": []
    },
    {
      "cell_type": "code",
      "metadata": {
        "id": "yaslSmXWzPtJ",
        "colab_type": "code",
        "colab": {}
      },
      "source": [
        "# 2 main test cases:\n",
        "# First if the root and both its childs are same then +1\n",
        "# Second if the node has not childs then +1. This goes for every leaf node.\n",
        "def traverse(Root):\n",
        "    # We check if the node has children or not. If he dosent then this is the last of its node\n",
        "    count = 0\n",
        "    #\n",
        "    if Root.left and Root.right:\n",
        "        count += traverse(Root.left)\n",
        "        count += traverse(Root.right)\n",
        "        if Root.data == Root.right.data == Root.left.data:\n",
        "            count += 1\n",
        "    elif Root.left and not Root.right:\n",
        "        count += traverse(Root.left)\n",
        "        if Root.data == Root.left.data:\n",
        "            count += 1\n",
        "    elif Root.right and not Root.left:\n",
        "        count += traverse(Root.right)\n",
        "        if Root.data == Root.right.data:\n",
        "            count += 1\n",
        "    else:\n",
        "        count += 1\n",
        "    return count"
      ],
      "execution_count": 35,
      "outputs": []
    },
    {
      "cell_type": "markdown",
      "metadata": {
        "id": "l2TrrF4_RO_2",
        "colab_type": "text"
      },
      "source": [
        "##### Problem 1\n",
        "\n",
        "![image.png](data:image/png;base64,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)\n",
        "\n",
        "Answer : 5"
      ]
    },
    {
      "cell_type": "code",
      "metadata": {
        "id": "izb6RXCMTjnb",
        "colab_type": "code",
        "colab": {
          "base_uri": "https://localhost:8080/",
          "height": 35
        },
        "outputId": "fb6d645e-4740-4c34-caaf-e2fc8668fd04"
      },
      "source": [
        "a = Node(0)\n",
        "b = Node(1)\n",
        "c = Node(0)\n",
        "d = Node(1)\n",
        "e = Node(0)\n",
        "f = Node(1)\n",
        "g = Node(1)\n",
        "\n",
        "\n",
        "a.left = b\n",
        "a.right = c\n",
        "c.left = d\n",
        "c.right = e\n",
        "d.left = f\n",
        "d.right =g\n",
        "\n",
        "\n",
        "print(traverse(a))"
      ],
      "execution_count": 37,
      "outputs": [
        {
          "output_type": "stream",
          "text": [
            "5\n"
          ],
          "name": "stdout"
        }
      ]
    },
    {
      "cell_type": "markdown",
      "metadata": {
        "id": "CRb8Rx61Tv5F",
        "colab_type": "text"
      },
      "source": [
        "##### Problem 2\n",
        "\n",
        "![image.png](data:image/png;base64,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)"
      ]
    },
    {
      "cell_type": "code",
      "metadata": {
        "id": "AWY36W1HNLsG",
        "colab_type": "code",
        "colab": {
          "base_uri": "https://localhost:8080/",
          "height": 35
        },
        "outputId": "b8c83efb-79c8-48bc-9e79-284c34d33e75"
      },
      "source": [
        "a = Node(5)\n",
        "b = Node(1)\n",
        "c = Node(5)\n",
        "d = Node(5)\n",
        "e = Node(5)\n",
        "f = Node(5)\n",
        "# g = Node(1)\n",
        "# h = Node(1)\n",
        "\n",
        "\n",
        "a.left = b\n",
        "a.right = c\n",
        "b.left = d\n",
        "b.right = e\n",
        "c.right = f\n",
        "# e.left = h\n",
        "\n",
        "print(traverse(a))"
      ],
      "execution_count": 36,
      "outputs": [
        {
          "output_type": "stream",
          "text": [
            "4\n"
          ],
          "name": "stdout"
        }
      ]
    },
    {
      "cell_type": "markdown",
      "metadata": {
        "id": "MZblBcZsUy2v",
        "colab_type": "text"
      },
      "source": [
        "##### Problem 3\n",
        "\n",
        "![image.png](data:image/png;base64,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)"
      ]
    },
    {
      "cell_type": "code",
      "metadata": {
        "id": "bmq4oqOgU39E",
        "colab_type": "code",
        "colab": {
          "base_uri": "https://localhost:8080/",
          "height": 35
        },
        "outputId": "8d109283-b1b7-438f-e652-293b3eeb5182"
      },
      "source": [
        "a = Node(5)\n",
        "b = Node(4)\n",
        "c = Node(5)\n",
        "d = Node(4)\n",
        "e = Node(4)\n",
        "f = Node(5)\n",
        "\n",
        "a.left = b\n",
        "a.right = c\n",
        "b.left = d\n",
        "b.right = e\n",
        "c.right = f\n",
        "\n",
        "print(traverse(a))"
      ],
      "execution_count": 38,
      "outputs": [
        {
          "output_type": "stream",
          "text": [
            "5\n"
          ],
          "name": "stdout"
        }
      ]
    },
    {
      "cell_type": "markdown",
      "metadata": {
        "id": "rZvMt4zNVySN",
        "colab_type": "text"
      },
      "source": [
        "### Question 9\n",
        "\n",
        "This problem was asked by Airbnb.\n",
        "\n",
        "Given a list of integers, write a function that returns the largest sum of non-adjacent numbers. Numbers can be 0 or negative.\n",
        "\n",
        "For example, [2, 4, 6, 8] should return 12, since we pick 4 and 8. [5, 1, 1, 5] should return 10, since we pick 5 and 5."
      ]
    },
    {
      "cell_type": "code",
      "metadata": {
        "id": "PaPyRAD7VBH4",
        "colab_type": "code",
        "colab": {}
      },
      "source": [
        "def question9(arr):\n",
        "    temp = list()\n",
        "    for i in range(len(arr)-2):\n",
        "        for j in range(i+2,len(arr)):\n",
        "            temp.append(arr[i]+arr[j])\n",
        "    return max(temp)"
      ],
      "execution_count": 39,
      "outputs": []
    },
    {
      "cell_type": "code",
      "metadata": {
        "id": "ESZwrNtVXzjI",
        "colab_type": "code",
        "colab": {
          "base_uri": "https://localhost:8080/",
          "height": 35
        },
        "outputId": "601626b0-2928-4219-a900-fea02c415b7e"
      },
      "source": [
        "question9([5,1,1,5])"
      ],
      "execution_count": 41,
      "outputs": [
        {
          "output_type": "execute_result",
          "data": {
            "text/plain": [
              "10"
            ]
          },
          "metadata": {
            "tags": []
          },
          "execution_count": 41
        }
      ]
    },
    {
      "cell_type": "markdown",
      "metadata": {
        "id": "vfdjrVsDX896",
        "colab_type": "text"
      },
      "source": [
        "### Question 10\n",
        "\n",
        "This problem was asked by Apple.\n",
        "\n",
        "Implement a job scheduler which takes in a function f and an integer n, and calls f after n milliseconds."
      ]
    },
    {
      "cell_type": "code",
      "metadata": {
        "id": "Pss-Uz3NX2rQ",
        "colab_type": "code",
        "colab": {}
      },
      "source": [
        "import time"
      ],
      "execution_count": 42,
      "outputs": []
    },
    {
      "cell_type": "code",
      "metadata": {
        "id": "bX2ylDR0Yad0",
        "colab_type": "code",
        "colab": {}
      },
      "source": [
        "def question10(function,miliseconds):\n",
        "    time.sleep(miliseconds//1000)\n",
        "    return function"
      ],
      "execution_count": 47,
      "outputs": []
    },
    {
      "cell_type": "code",
      "metadata": {
        "id": "Hq8kRHxaZu4C",
        "colab_type": "code",
        "colab": {}
      },
      "source": [
        "def dummy(a,b):\n",
        "    return a+b"
      ],
      "execution_count": 46,
      "outputs": []
    },
    {
      "cell_type": "code",
      "metadata": {
        "id": "prt4jarEalJj",
        "colab_type": "code",
        "colab": {
          "base_uri": "https://localhost:8080/",
          "height": 35
        },
        "outputId": "8fa27a9f-eefe-465e-95e6-bd5886171474"
      },
      "source": [
        "question10(dummy(10,20),2000)"
      ],
      "execution_count": 49,
      "outputs": [
        {
          "output_type": "execute_result",
          "data": {
            "text/plain": [
              "30"
            ]
          },
          "metadata": {
            "tags": []
          },
          "execution_count": 49
        }
      ]
    },
    {
      "cell_type": "markdown",
      "metadata": {
        "id": "k9L5om2xbb7q",
        "colab_type": "text"
      },
      "source": [
        "### Question 11"
      ]
    },
    {
      "cell_type": "code",
      "metadata": {
        "id": "pjfdn3PtbLuR",
        "colab_type": "code",
        "colab": {}
      },
      "source": [
        ""
      ],
      "execution_count": null,
      "outputs": []
    }
  ]
}