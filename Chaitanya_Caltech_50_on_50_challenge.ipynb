{
  "nbformat": 4,
  "nbformat_minor": 0,
  "metadata": {
    "kernelspec": {
      "display_name": "Python 3",
      "language": "python",
      "name": "python3"
    },
    "language_info": {
      "codemirror_mode": {
        "name": "ipython",
        "version": 3
      },
      "file_extension": ".py",
      "mimetype": "text/x-python",
      "name": "python",
      "nbconvert_exporter": "python",
      "pygments_lexer": "ipython3",
      "version": "3.7.7"
    },
    "colab": {
      "name": "Chaitanya Caltech-50-on-50-challenge.ipynb",
      "provenance": [],
      "collapsed_sections": [
        "s1_OLzpM4iYR",
        "GQZxI4wC4iYX",
        "KKjtx2sB4iYd",
        "SEfS7LWW4iYg",
        "8jdeEM5J4_ve",
        "ytrwLjoDDNcF",
        "aPWTkAsc8ZNj",
        "J7jkeVItdPfO",
        "rZvMt4zNVySN",
        "vfdjrVsDX896",
        "k9L5om2xbb7q",
        "UlaVUzzm83Kx",
        "n3a5zFYRXGQC",
        "PQc2fvwUAdEa"
      ],
      "include_colab_link": true
    }
  },
  "cells": [
    {
      "cell_type": "markdown",
      "metadata": {
        "id": "view-in-github",
        "colab_type": "text"
      },
      "source": [
        "<a href=\"https://colab.research.google.com/github/The-Alchemists/Caltech-50-on-50-challenge/blob/master/Chaitanya_Caltech_50_on_50_challenge.ipynb\" target=\"_parent\"><img src=\"https://colab.research.google.com/assets/colab-badge.svg\" alt=\"Open In Colab\"/></a>"
      ]
    },
    {
      "cell_type": "markdown",
      "metadata": {
        "id": "s1_OLzpM4iYR",
        "colab_type": "text"
      },
      "source": [
        "### Question 1:\n",
        "\n",
        "Given a list of numbers, return whether any two sums to k.\n",
        "For example, given [10, 15, 3, 7] and k of 17, return true since 10 + 7 is 17.\n",
        "Bonus: Can you do this in one pass?"
      ]
    },
    {
      "cell_type": "code",
      "metadata": {
        "id": "S8-i3RKy4iYS",
        "colab_type": "code",
        "colab": {}
      },
      "source": [
        "def question1(listofnum,k):\n",
        "    for i in range(len(listofnum)-1):\n",
        "        for j in range(i+1,len(listofnum)):\n",
        "            if listofnum[i] + listofnum[j] == k:\n",
        "                #For debugging\n",
        "                # print(listofnum[i],listofnum[j]) \n",
        "                return True\n",
        "    else:\n",
        "        return False"
      ],
      "execution_count": null,
      "outputs": []
    },
    {
      "cell_type": "code",
      "metadata": {
        "id": "5HIpKzDl4iYV",
        "colab_type": "code",
        "colab": {
          "base_uri": "https://localhost:8080/",
          "height": 35
        },
        "outputId": "bb74cfa1-9837-4e67-be4f-26c8d4b605ca"
      },
      "source": [
        "question1([10,15,3,7],10)"
      ],
      "execution_count": null,
      "outputs": [
        {
          "output_type": "execute_result",
          "data": {
            "text/plain": [
              "True"
            ]
          },
          "metadata": {
            "tags": []
          },
          "execution_count": 3
        }
      ]
    },
    {
      "cell_type": "markdown",
      "metadata": {
        "id": "GQZxI4wC4iYX",
        "colab_type": "text"
      },
      "source": [
        "### Question 2\n",
        "\n",
        "This problem was asked by Uber.\n",
        "\n",
        "Given an array of integers, return a new array such that each element at index i of the new array\n",
        "is the product of all the numbers in the original array except the one at i.\n",
        "\n",
        "For example, if our input was [1, 2, 3, 4, 5], the expected output would be [120, 60, 40, 30, 24].\n",
        "\n",
        "If our input was [3, 2, 1], the expected output would be [2, 3, 6].\n",
        "Follow-up: what if you can't use division?"
      ]
    },
    {
      "cell_type": "code",
      "metadata": {
        "id": "rnAxKI6R4iYX",
        "colab_type": "code",
        "colab": {}
      },
      "source": [
        "import numpy as np"
      ],
      "execution_count": null,
      "outputs": []
    },
    {
      "cell_type": "code",
      "metadata": {
        "id": "rGjwbM5E4iYZ",
        "colab_type": "code",
        "colab": {}
      },
      "source": [
        "def question2(thelist):\n",
        "    l = []\n",
        "    for i in range(len(thelist)):\n",
        "        temp = thelist.pop(0)\n",
        "        v = np.prod(thelist)\n",
        "        thelist.append(temp)\n",
        "        # print(thelist)\n",
        "        l.append(v)\n",
        "    return(l)   "
      ],
      "execution_count": null,
      "outputs": []
    },
    {
      "cell_type": "code",
      "metadata": {
        "id": "udlM2TPO4iYb",
        "colab_type": "code",
        "colab": {
          "base_uri": "https://localhost:8080/",
          "height": 35
        },
        "outputId": "73d76641-3731-480e-ff37-cc04b5f79140"
      },
      "source": [
        "question2([3,2,1])"
      ],
      "execution_count": null,
      "outputs": [
        {
          "output_type": "execute_result",
          "data": {
            "text/plain": [
              "[2, 3, 6]"
            ]
          },
          "metadata": {
            "tags": []
          },
          "execution_count": 44
        }
      ]
    },
    {
      "cell_type": "markdown",
      "metadata": {
        "id": "KKjtx2sB4iYd",
        "colab_type": "text"
      },
      "source": [
        "### Question 3\n",
        "\n",
        "This problem was asked by Google.\n",
        "\n",
        "Given the root to a binary tree, implement serialize(root), which serializes the tree into a string,\n",
        "and deserialize(s), which deserializes the string back into the tree."
      ]
    },
    {
      "cell_type": "markdown",
      "metadata": {
        "id": "kWIsd3KH9eKL",
        "colab_type": "text"
      },
      "source": [
        "#### Manish's Method"
      ]
    },
    {
      "cell_type": "code",
      "metadata": {
        "id": "Kp1shKtCeWbW",
        "colab_type": "code",
        "colab": {}
      },
      "source": [
        "import json"
      ],
      "execution_count": null,
      "outputs": []
    },
    {
      "cell_type": "code",
      "metadata": {
        "id": "2d120Ywr9dgu",
        "colab_type": "code",
        "colab": {}
      },
      "source": [
        "#creating a tree \n",
        "class Node:\n",
        "    def __init__(self, data):\n",
        "        self.data = data\n",
        "        self.left = None\n",
        "        self.right = None\n",
        "    \n",
        "    def __repr__(self):\n",
        "        return str(self.data)"
      ],
      "execution_count": null,
      "outputs": []
    },
    {
      "cell_type": "code",
      "metadata": {
        "id": "5QeCUj3JeZyX",
        "colab_type": "code",
        "colab": {}
      },
      "source": [
        "def serialize(root):\n",
        "    if not root:\n",
        "        return None\n",
        "\n",
        "    serialized_tree = dict()\n",
        "    serialized_l = serialize(root.left)\n",
        "    serialized_r = serialize(root.right)\n",
        "\n",
        "    serialized_tree['data'] = root.data\n",
        "    if serialized_l:\n",
        "        serialized_tree['left'] = serialized_l\n",
        "    if serialized_r:\n",
        "        serialized_tree['right'] = serialized_r\n",
        "\n",
        "    return json.dumps(serialized_tree)\n",
        "\n",
        "\n",
        "def deserialize(s):\n",
        "    serialized_tree = json.loads(s)\n",
        "\n",
        "    node = Node(serialized_tree['data'])\n",
        "    if 'left' in serialized_tree:\n",
        "        node.left = deserialize(serialized_tree['left'])\n",
        "    if 'right' in serialized_tree:\n",
        "        node.right = deserialize(serialized_tree['right'])\n",
        "\n",
        "    return node,serialized_tree"
      ],
      "execution_count": null,
      "outputs": []
    },
    {
      "cell_type": "code",
      "metadata": {
        "id": "90zA7OsceeG_",
        "colab_type": "code",
        "colab": {
          "base_uri": "https://localhost:8080/",
          "height": 74
        },
        "outputId": "1208ac0b-06b7-4bcd-b6e0-bac40c5000fa"
      },
      "source": [
        "a = Node('a')\n",
        "b = Node('b')\n",
        "c = Node('c')\n",
        "d = Node('d')\n",
        "e = Node('e')\n",
        "f = Node('f')\n",
        "g = Node('g')\n",
        "a.left = b\n",
        "a.right = c\n",
        "b.left = d\n",
        "b.right = e\n",
        "c.left = f\n",
        "c.right = g\n",
        "\n",
        "serialized_a = serialize(a)\n",
        "print(serialized_a)\n",
        "\n",
        "deserialized_a,s = deserialize(serialized_a)\n",
        "# str(deserialized_a) == \"a\"\n",
        "print(s)"
      ],
      "execution_count": null,
      "outputs": [
        {
          "output_type": "stream",
          "text": [
            "{\"data\": \"a\", \"left\": \"{\\\"data\\\": \\\"b\\\", \\\"left\\\": \\\"{\\\\\\\"data\\\\\\\": \\\\\\\"d\\\\\\\"}\\\", \\\"right\\\": \\\"{\\\\\\\"data\\\\\\\": \\\\\\\"e\\\\\\\"}\\\"}\", \"right\": \"{\\\"data\\\": \\\"c\\\", \\\"left\\\": \\\"{\\\\\\\"data\\\\\\\": \\\\\\\"f\\\\\\\"}\\\", \\\"right\\\": \\\"{\\\\\\\"data\\\\\\\": \\\\\\\"g\\\\\\\"}\\\"}\"}\n",
            "{'data': 'a', 'left': '{\"data\": \"b\", \"left\": \"{\\\\\"data\\\\\": \\\\\"d\\\\\"}\", \"right\": \"{\\\\\"data\\\\\": \\\\\"e\\\\\"}\"}', 'right': '{\"data\": \"c\", \"left\": \"{\\\\\"data\\\\\": \\\\\"f\\\\\"}\", \"right\": \"{\\\\\"data\\\\\": \\\\\"g\\\\\"}\"}'}\n"
          ],
          "name": "stdout"
        }
      ]
    },
    {
      "cell_type": "markdown",
      "metadata": {
        "id": "SEfS7LWW4iYg",
        "colab_type": "text"
      },
      "source": [
        "### Question 4\n",
        "\n",
        "This problem was asked by Nvidia.\n",
        "\n",
        "Given an array of integers, find the first missing positive integer in linear time and constant\n",
        "space. \n",
        "\n",
        "In other words, find the lowest positive integer that does not exist in the array. The array\n",
        "can contain duplicates and negative numbers as well.\n",
        "\n",
        "For example, the input [3, 4, -1, 1] should give 2. The input [1, 2, 0] should give 3.\n",
        "You can modify the input array in-place."
      ]
    },
    {
      "cell_type": "code",
      "metadata": {
        "id": "c3wUPwyH4iYg",
        "colab_type": "code",
        "colab": {}
      },
      "source": [
        "def question4(thelist): \n",
        "    a = thelist\n",
        "    i = 1\n",
        "    while True:\n",
        "        if i not in a:\n",
        "            return i\n",
        "        i+=1      "
      ],
      "execution_count": null,
      "outputs": []
    },
    {
      "cell_type": "code",
      "metadata": {
        "id": "RAXgzvRR4iYi",
        "colab_type": "code",
        "colab": {
          "base_uri": "https://localhost:8080/",
          "height": 35
        },
        "outputId": "e231be3c-f122-4995-bf5c-566a6d099cb9"
      },
      "source": [
        "question4([-10,-20,-30])"
      ],
      "execution_count": null,
      "outputs": [
        {
          "output_type": "execute_result",
          "data": {
            "text/plain": [
              "1"
            ]
          },
          "metadata": {
            "tags": []
          },
          "execution_count": 36
        }
      ]
    },
    {
      "cell_type": "markdown",
      "metadata": {
        "id": "8jdeEM5J4_ve",
        "colab_type": "text"
      },
      "source": [
        "### Question 5\n",
        "\n",
        "This problem was asked by Jane Street.\n",
        "cons(a, b) constructs a pair, and car(pair) and cdr(pair) returns the first and last element of that\n",
        "pair. For example, car(cons(3, 4)) returns 3, and cdr(cons(3, 4)) returns 4.\n",
        "Given this implementation of cons:\n",
        "\n",
        "    def cons(a,b):\n",
        "        return lambda f:f(a,b)\n",
        "\n",
        "Implement car and cdr."
      ]
    },
    {
      "cell_type": "code",
      "metadata": {
        "id": "0aMm7E914iYk",
        "colab_type": "code",
        "colab": {}
      },
      "source": [
        "def cons(a,b):\n",
        "  return lambda f:f(a,b)"
      ],
      "execution_count": null,
      "outputs": []
    },
    {
      "cell_type": "code",
      "metadata": {
        "id": "oYjV2S2o52At",
        "colab_type": "code",
        "colab": {}
      },
      "source": [
        "def car(function):\n",
        "  return function(lambda x,y:x)\n",
        "\n",
        "def cdr(function):\n",
        "  return function(lambda x,y:y)"
      ],
      "execution_count": null,
      "outputs": []
    },
    {
      "cell_type": "code",
      "metadata": {
        "id": "8Atj7zPW53aE",
        "colab_type": "code",
        "colab": {
          "base_uri": "https://localhost:8080/",
          "height": 54
        },
        "outputId": "afb61397-7ae6-4177-d387-ab960d465ca8"
      },
      "source": [
        "print(car(cons(1,2)))\n",
        "print(cdr(cons(1,2)))"
      ],
      "execution_count": null,
      "outputs": [
        {
          "output_type": "stream",
          "text": [
            "1\n",
            "2\n"
          ],
          "name": "stdout"
        }
      ]
    },
    {
      "cell_type": "markdown",
      "metadata": {
        "id": "ytrwLjoDDNcF",
        "colab_type": "text"
      },
      "source": [
        "### Question 6\n",
        "\n",
        "This problem was asked by Google.\n",
        "\n",
        "An XOR linked list is a more memory efficient doubly linked list. Instead of each node holding next and prev fields, it holds a field named both, which is an XOR of the next node and the previous node. Implement an XOR linked list; it has an add(element) which adds the element to the end, and a get(index) which returns the node at index. \n",
        "\n",
        "If using a language that has no pointers (such as Python), you can assume you have access to get_pointer and dereference_pointer functions that converts between nodes and memory addresses."
      ]
    },
    {
      "cell_type": "markdown",
      "metadata": {
        "id": "wh6di_Wv8cp3",
        "colab_type": "text"
      },
      "source": [
        "#### Manish's Method"
      ]
    },
    {
      "cell_type": "code",
      "metadata": {
        "id": "5L1ng-Urq3to",
        "colab_type": "code",
        "colab": {}
      },
      "source": [
        "class Node:\n",
        "    def __init__(self, data):\n",
        "        self.data = data\n",
        "        self.both = id(data)\n",
        "\n",
        "    def __repr__(self):\n",
        "        return str(self.data)"
      ],
      "execution_count": null,
      "outputs": []
    },
    {
      "cell_type": "code",
      "metadata": {
        "id": "se9f0cGO4zH4",
        "colab_type": "code",
        "colab": {}
      },
      "source": [
        "class LinkedList:\n",
        "\n",
        "  def __init__(self, node):\n",
        "    self.head = node\n",
        "    self.tail = node \n",
        "    self.head.both = 0        # is this Node.both ?\n",
        "    self.tail.both = 0\n",
        "\n",
        "  def add(self, element):\n",
        "    self.tail.both ^= id(element.data)\n",
        "    element.both, self.tail = id(self.tail.data), element \n",
        "     \n",
        "  def get(self, index):\n",
        "    prev_node_add = 0\n",
        "    result = self.head\n",
        "    for i in range(index):\n",
        "      nxt_node_add = prev_node_add ^ result.both\n",
        "      prev_node_add = id(result.data)\n",
        "      result = id_map[nxt_node_add]   # Can we not use dictionary here but outside ?\n",
        "    return result.data"
      ],
      "execution_count": null,
      "outputs": []
    },
    {
      "cell_type": "code",
      "metadata": {
        "id": "E8nwBfp141vP",
        "colab_type": "code",
        "colab": {}
      },
      "source": [
        "a = Node(\"a\")\n",
        "b = Node(\"b\")\n",
        "c = Node(\"c\")\n",
        "d = Node(\"d\")\n",
        "e = Node(\"e\")\n",
        "\n",
        "id_map = dict()\n",
        "id_map[id(\"a\")] = a\n",
        "id_map[id(\"b\")] = b\n",
        "id_map[id(\"c\")] = c\n",
        "id_map[id(\"d\")] = d\n",
        "id_map[id(\"e\")] = e"
      ],
      "execution_count": null,
      "outputs": []
    },
    {
      "cell_type": "code",
      "metadata": {
        "id": "_9LBsnwM44hg",
        "colab_type": "code",
        "colab": {}
      },
      "source": [
        "llist = LinkedList(c)\n",
        "llist.add(d)\n",
        "llist.add(e)\n",
        "llist.add(a)"
      ],
      "execution_count": null,
      "outputs": []
    },
    {
      "cell_type": "code",
      "metadata": {
        "id": "O9mj_VrK5AGk",
        "colab_type": "code",
        "colab": {
          "base_uri": "https://localhost:8080/",
          "height": 35
        },
        "outputId": "6d8458a9-54c5-4626-f862-5a2b7892cb14"
      },
      "source": [
        "llist.get(3)"
      ],
      "execution_count": null,
      "outputs": [
        {
          "output_type": "execute_result",
          "data": {
            "text/plain": [
              "'a'"
            ]
          },
          "metadata": {
            "tags": []
          },
          "execution_count": 27
        }
      ]
    },
    {
      "cell_type": "markdown",
      "metadata": {
        "id": "aPWTkAsc8ZNj",
        "colab_type": "text"
      },
      "source": [
        "### Question 7\n",
        "\n",
        "This problem was asked by Facebook.\n",
        "\n",
        "Given the mapping a = 1, b = 2, ... z = 26, and an encoded message, count the number of ways it can be decoded. For example, the message '111' would give 3, since it could be decoded as 'aaa', 'ka', and 'ak'. \n",
        "\n",
        "You can assume that the messages are decodable. For example, '001' is not allowed."
      ]
    },
    {
      "cell_type": "markdown",
      "metadata": {
        "id": "v33viNiXdJi0",
        "colab_type": "text"
      },
      "source": [
        "#### Manish's Method"
      ]
    },
    {
      "cell_type": "code",
      "metadata": {
        "id": "1OD6n_3jRbra",
        "colab_type": "code",
        "colab": {}
      },
      "source": [
        "def char(code):\n",
        "    code = int(code)\n",
        "    return 0 if code > 26 or code < 1 else 1\n",
        "\n",
        "def get_message_c(code):\n",
        "    code_string = str(code)\n",
        "    if len(code_string) == 1:\n",
        "        count = 1\n",
        "    elif len(code_string) == 2:\n",
        "        count = 1 + char(code)\n",
        "    else:\n",
        "        count = get_message_c(code_string[1:])\n",
        "        if char(code_string[:2]):\n",
        "            count += get_message_c(code_string[2:])\n",
        "\n",
        "    return count\n",
        "\n"
      ],
      "execution_count": null,
      "outputs": []
    },
    {
      "cell_type": "code",
      "metadata": {
        "id": "WcJEDuiyIfcp",
        "colab_type": "code",
        "colab": {
          "base_uri": "https://localhost:8080/",
          "height": 35
        },
        "outputId": "69689da6-06d6-4729-9f8a-6aa9b2e40e8d"
      },
      "source": [
        "get_message_c(111)"
      ],
      "execution_count": null,
      "outputs": [
        {
          "output_type": "execute_result",
          "data": {
            "text/plain": [
              "3"
            ]
          },
          "metadata": {
            "tags": []
          },
          "execution_count": 32
        }
      ]
    },
    {
      "cell_type": "markdown",
      "metadata": {
        "id": "J7jkeVItdPfO",
        "colab_type": "text"
      },
      "source": [
        "### Question 8\n",
        "\n",
        "This problem was asked by Google.\n",
        "\n",
        "A unival tree (which stands for \"universal value\") is a tree where all nodes under it have the same value. Also if the node does not have a child node then that is also considered as a unival Node.\n",
        "\n",
        "Given the root to a binary tree, count the number of unival subtrees."
      ]
    },
    {
      "cell_type": "code",
      "metadata": {
        "id": "zwti98c3eNoY",
        "colab_type": "code",
        "colab": {}
      },
      "source": [
        "class Node:\n",
        "    def __init__(self, data):\n",
        "        self.data = data\n",
        "        self.left = None\n",
        "        self.right = None\n",
        "    def __repr__(self):\n",
        "        return str(self.data)"
      ],
      "execution_count": null,
      "outputs": []
    },
    {
      "cell_type": "code",
      "metadata": {
        "id": "yaslSmXWzPtJ",
        "colab_type": "code",
        "colab": {}
      },
      "source": [
        "# 2 main test cases:\n",
        "# First if the root and both its childs are same then +1\n",
        "# Second if the node has not childs then +1. This goes for every leaf node.\n",
        "def traverse(Root):\n",
        "    # We check if the node has children or not. If he dosent then this is the last of its node\n",
        "    count = 0\n",
        "    #\n",
        "    if Root.left and Root.right:\n",
        "        count += traverse(Root.left)\n",
        "        count += traverse(Root.right)\n",
        "        if Root.data == Root.right.data == Root.left.data:\n",
        "            count += 1\n",
        "    elif Root.left and not Root.right:\n",
        "        count += traverse(Root.left)\n",
        "        if Root.data == Root.left.data:\n",
        "            count += 1\n",
        "    elif Root.right and not Root.left:\n",
        "        count += traverse(Root.right)\n",
        "        if Root.data == Root.right.data:\n",
        "            count += 1\n",
        "    else:\n",
        "        count += 1\n",
        "    return count"
      ],
      "execution_count": null,
      "outputs": []
    },
    {
      "cell_type": "markdown",
      "metadata": {
        "id": "l2TrrF4_RO_2",
        "colab_type": "text"
      },
      "source": [
        "##### Problem 1\n",
        "\n",
        "![image.png](data:image/png;base64,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)\n",
        "\n",
        "Answer : 5"
      ]
    },
    {
      "cell_type": "code",
      "metadata": {
        "id": "izb6RXCMTjnb",
        "colab_type": "code",
        "colab": {
          "base_uri": "https://localhost:8080/",
          "height": 35
        },
        "outputId": "fb6d645e-4740-4c34-caaf-e2fc8668fd04"
      },
      "source": [
        "a = Node(0)\n",
        "b = Node(1)\n",
        "c = Node(0)\n",
        "d = Node(1)\n",
        "e = Node(0)\n",
        "f = Node(1)\n",
        "g = Node(1)\n",
        "\n",
        "\n",
        "a.left = b\n",
        "a.right = c\n",
        "c.left = d\n",
        "c.right = e\n",
        "d.left = f\n",
        "d.right =g\n",
        "\n",
        "\n",
        "print(traverse(a))"
      ],
      "execution_count": null,
      "outputs": [
        {
          "output_type": "stream",
          "text": [
            "5\n"
          ],
          "name": "stdout"
        }
      ]
    },
    {
      "cell_type": "markdown",
      "metadata": {
        "id": "CRb8Rx61Tv5F",
        "colab_type": "text"
      },
      "source": [
        "##### Problem 2\n",
        "\n",
        "![image.png](data:image/png;base64,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)"
      ]
    },
    {
      "cell_type": "code",
      "metadata": {
        "id": "AWY36W1HNLsG",
        "colab_type": "code",
        "colab": {
          "base_uri": "https://localhost:8080/",
          "height": 35
        },
        "outputId": "b8c83efb-79c8-48bc-9e79-284c34d33e75"
      },
      "source": [
        "a = Node(5)\n",
        "b = Node(1)\n",
        "c = Node(5)\n",
        "d = Node(5)\n",
        "e = Node(5)\n",
        "f = Node(5)\n",
        "# g = Node(1)\n",
        "# h = Node(1)\n",
        "\n",
        "\n",
        "a.left = b\n",
        "a.right = c\n",
        "b.left = d\n",
        "b.right = e\n",
        "c.right = f\n",
        "# e.left = h\n",
        "\n",
        "print(traverse(a))"
      ],
      "execution_count": null,
      "outputs": [
        {
          "output_type": "stream",
          "text": [
            "4\n"
          ],
          "name": "stdout"
        }
      ]
    },
    {
      "cell_type": "markdown",
      "metadata": {
        "id": "MZblBcZsUy2v",
        "colab_type": "text"
      },
      "source": [
        "##### Problem 3\n",
        "\n",
        "![image.png](data:image/png;base64,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)"
      ]
    },
    {
      "cell_type": "code",
      "metadata": {
        "id": "bmq4oqOgU39E",
        "colab_type": "code",
        "colab": {
          "base_uri": "https://localhost:8080/",
          "height": 35
        },
        "outputId": "8d109283-b1b7-438f-e652-293b3eeb5182"
      },
      "source": [
        "a = Node(5)\n",
        "b = Node(4)\n",
        "c = Node(5)\n",
        "d = Node(4)\n",
        "e = Node(4)\n",
        "f = Node(5)\n",
        "\n",
        "a.left = b\n",
        "a.right = c\n",
        "b.left = d\n",
        "b.right = e\n",
        "c.right = f\n",
        "\n",
        "print(traverse(a))"
      ],
      "execution_count": null,
      "outputs": [
        {
          "output_type": "stream",
          "text": [
            "5\n"
          ],
          "name": "stdout"
        }
      ]
    },
    {
      "cell_type": "markdown",
      "metadata": {
        "id": "rZvMt4zNVySN",
        "colab_type": "text"
      },
      "source": [
        "### Question 9\n",
        "\n",
        "This problem was asked by Airbnb.\n",
        "\n",
        "Given a list of integers, write a function that returns the largest sum of non-adjacent numbers. Numbers can be 0 or negative.\n",
        "\n",
        "For example, [2, 4, 6, 8] should return 12, since we pick 4 and 8. [5, 1, 1, 5] should return 10, since we pick 5 and 5."
      ]
    },
    {
      "cell_type": "markdown",
      "metadata": {
        "id": "lrQx1MXur-tT",
        "colab_type": "text"
      },
      "source": [
        "#### Chaitanya's"
      ]
    },
    {
      "cell_type": "code",
      "metadata": {
        "id": "PaPyRAD7VBH4",
        "colab_type": "code",
        "colab": {}
      },
      "source": [
        "def question9(arr):\n",
        "    temp = list()\n",
        "    for i in range(len(arr)-2):\n",
        "        for j in range(i+2,len(arr)):\n",
        "            temp.append(arr[i]+arr[j])\n",
        "    return max(temp)"
      ],
      "execution_count": null,
      "outputs": []
    },
    {
      "cell_type": "code",
      "metadata": {
        "id": "e7yUJLlTsb_A",
        "colab_type": "code",
        "colab": {
          "base_uri": "https://localhost:8080/",
          "height": 35
        },
        "outputId": "069409ee-196f-4af0-e69d-1674f048d883"
      },
      "source": [
        "question9([5,5,10,100,10,5])"
      ],
      "execution_count": null,
      "outputs": [
        {
          "output_type": "execute_result",
          "data": {
            "text/plain": [
              "105"
            ]
          },
          "metadata": {
            "tags": []
          },
          "execution_count": 38
        }
      ]
    },
    {
      "cell_type": "markdown",
      "metadata": {
        "id": "MjACV79gsElt",
        "colab_type": "text"
      },
      "source": [
        "#### Manish's"
      ]
    },
    {
      "cell_type": "code",
      "metadata": {
        "id": "ZwitMwWJsJuZ",
        "colab_type": "code",
        "colab": {
          "base_uri": "https://localhost:8080/",
          "height": 163
        },
        "outputId": "95252d3a-914a-41ed-d7ff-2de00cdee875"
      },
      "source": [
        "def get_largest(array):\n",
        "  prev, largest = 0, 0\n",
        "  print (\"value:{}; prev: {}; largest:{}\".format(array[0], prev, largest))\n",
        "  for value in array:\n",
        "    prev, largest = largest, max(largest, prev + value)\n",
        "    print (\"value:{}; prev: {}; largest:{}\".format(value, prev, largest))\n",
        "  return largest\n",
        "\n",
        "print(get_largest([5, 5, 10, 100, 10, 5]))"
      ],
      "execution_count": null,
      "outputs": [
        {
          "output_type": "stream",
          "text": [
            "value:5; prev: 0; largest:0\n",
            "value:5; prev: 0; largest:5\n",
            "value:5; prev: 5; largest:5\n",
            "value:10; prev: 5; largest:15\n",
            "value:100; prev: 15; largest:105\n",
            "value:10; prev: 105; largest:105\n",
            "value:5; prev: 105; largest:110\n",
            "110\n"
          ],
          "name": "stdout"
        }
      ]
    },
    {
      "cell_type": "markdown",
      "metadata": {
        "id": "vfdjrVsDX896",
        "colab_type": "text"
      },
      "source": [
        "### Question 10\n",
        "\n",
        "This problem was asked by Apple.\n",
        "\n",
        "Implement a job scheduler which takes in a function f and an integer n, and calls f after n milliseconds."
      ]
    },
    {
      "cell_type": "code",
      "metadata": {
        "id": "Pss-Uz3NX2rQ",
        "colab_type": "code",
        "colab": {}
      },
      "source": [
        "import time"
      ],
      "execution_count": null,
      "outputs": []
    },
    {
      "cell_type": "code",
      "metadata": {
        "id": "bX2ylDR0Yad0",
        "colab_type": "code",
        "colab": {}
      },
      "source": [
        "def question10(function,miliseconds):\n",
        "    time.sleep(miliseconds//1000)\n",
        "    return function"
      ],
      "execution_count": null,
      "outputs": []
    },
    {
      "cell_type": "code",
      "metadata": {
        "id": "Hq8kRHxaZu4C",
        "colab_type": "code",
        "colab": {}
      },
      "source": [
        "def dummy(a,b):\n",
        "    return a+b"
      ],
      "execution_count": null,
      "outputs": []
    },
    {
      "cell_type": "code",
      "metadata": {
        "id": "prt4jarEalJj",
        "colab_type": "code",
        "colab": {
          "base_uri": "https://localhost:8080/",
          "height": 35
        },
        "outputId": "8fa27a9f-eefe-465e-95e6-bd5886171474"
      },
      "source": [
        "question10(dummy(10,20),2000)"
      ],
      "execution_count": null,
      "outputs": [
        {
          "output_type": "execute_result",
          "data": {
            "text/plain": [
              "30"
            ]
          },
          "metadata": {
            "tags": []
          },
          "execution_count": 49
        }
      ]
    },
    {
      "cell_type": "markdown",
      "metadata": {
        "id": "k9L5om2xbb7q",
        "colab_type": "text"
      },
      "source": [
        "### Question 11\n",
        "\n",
        "This problem was asked by Twitter.\n",
        "\n",
        "Implement an autocomplete system. That is, given a query string s and a set of all possible query strings, return all strings in the set that have s as a prefix.\n",
        "\n",
        "For example, given the query string de and the set of strings [dog, deer, deal], return [deer, deal].\n",
        "\n",
        "Hint: Try preprocessing the dictionary into a more efficient data structure to speed up queries."
      ]
    },
    {
      "cell_type": "code",
      "metadata": {
        "id": "pjfdn3PtbLuR",
        "colab_type": "code",
        "colab": {}
      },
      "source": [
        "# What the above Hint Specifies is that use a tree to preprocess the words\n",
        "def question11(query_string,possible_string):\n",
        "    final_list = list()\n",
        "    for i in possible_string:\n",
        "        if i.startswith(query_string):\n",
        "            final_list.append(i)\n",
        "    return final_list"
      ],
      "execution_count": null,
      "outputs": []
    },
    {
      "cell_type": "code",
      "metadata": {
        "id": "8pIStKSP71CR",
        "colab_type": "code",
        "colab": {
          "base_uri": "https://localhost:8080/",
          "height": 34
        },
        "outputId": "bcaf5815-e0a6-40c4-f2b9-103dc3cbec31"
      },
      "source": [
        "question11('de',['dog','deer','deal'])"
      ],
      "execution_count": null,
      "outputs": [
        {
          "output_type": "execute_result",
          "data": {
            "text/plain": [
              "['deer', 'deal']"
            ]
          },
          "metadata": {
            "tags": []
          },
          "execution_count": 11
        }
      ]
    },
    {
      "cell_type": "markdown",
      "metadata": {
        "id": "UlaVUzzm83Kx",
        "colab_type": "text"
      },
      "source": [
        "### Question 12\n",
        "\n",
        "This problem was asked by Amazon.\n",
        "\n",
        "There exists a staircase with N steps, and you can climb up either 1 or 2 steps at a time. Given N, write a function that returns the number of unique ways you can climb the staircase. The order of the steps matters.\n",
        "For example, if N is 4, then there are 5 unique ways:\n",
        "\n",
        "![image.png](data:image/png;base64,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)\n",
        "\n",
        "What if, instead of being able to climb 1 or 2 steps at a time, you could climb any number from a set of positive integers X? For example, if X = {1, 3, 5}, you could climb 1, 3, or 5 steps at a time."
      ]
    },
    {
      "cell_type": "code",
      "metadata": {
        "id": "oislYDOGHs2O",
        "colab_type": "code",
        "colab": {}
      },
      "source": [
        "def question12(n):\n",
        "    if n <= 1:\n",
        "        return 1\n",
        "    return question12(n-1) + question12(n-2)"
      ],
      "execution_count": null,
      "outputs": []
    },
    {
      "cell_type": "code",
      "metadata": {
        "id": "Iom-LraMHg0q",
        "colab_type": "code",
        "colab": {
          "base_uri": "https://localhost:8080/",
          "height": 34
        },
        "outputId": "3494ddd5-b47d-4d0c-9c66-a9cd802dce46"
      },
      "source": [
        "question12(4)"
      ],
      "execution_count": null,
      "outputs": [
        {
          "output_type": "execute_result",
          "data": {
            "text/plain": [
              "5"
            ]
          },
          "metadata": {
            "tags": []
          },
          "execution_count": 77
        }
      ]
    },
    {
      "cell_type": "markdown",
      "metadata": {
        "id": "n3a5zFYRXGQC",
        "colab_type": "text"
      },
      "source": [
        "### Question 13\n",
        "\n",
        "This problem was asked by Amazon.\n",
        "\n",
        "Given an integer k and a string s, find the length of the longest substring that contains at most k distinct characters.\n",
        "\n",
        "For example, given s = \"abcba\" and k = 2, the longest substring with k distinct characters is \"bcb\"."
      ]
    },
    {
      "cell_type": "code",
      "metadata": {
        "id": "BMe4BkfpTkKy",
        "colab_type": "code",
        "colab": {}
      },
      "source": [
        "def question13(s,k):\n",
        "    dummy = ''\n",
        "    for i in s:\n",
        "        if i == dummy"
      ],
      "execution_count": null,
      "outputs": []
    },
    {
      "cell_type": "code",
      "metadata": {
        "id": "YG91Xo9QZkwa",
        "colab_type": "code",
        "colab": {
          "base_uri": "https://localhost:8080/",
          "height": 35
        },
        "outputId": "818a8453-efce-4aee-b142-261bab585a58"
      },
      "source": [
        "question13('abcba',4)"
      ],
      "execution_count": null,
      "outputs": [
        {
          "output_type": "execute_result",
          "data": {
            "text/plain": [
              "'abcba'"
            ]
          },
          "metadata": {
            "tags": []
          },
          "execution_count": 21
        }
      ]
    },
    {
      "cell_type": "markdown",
      "metadata": {
        "id": "PQc2fvwUAdEa",
        "colab_type": "text"
      },
      "source": [
        "### Question 14\n",
        "\n",
        "This problem was asked by Google.\n",
        "\n",
        "The area of a circle is defined as r^2. Estimate \\pi to 3 decimal places using a Monte Carlo method.\n",
        "\n",
        "Hint: The basic equation of a circle is x^2 + y^2 = r^2.\n",
        "\n",
        "This is a simulation without graphics:\n",
        "\n",
        "1. Initialize number of points\n",
        "2. Generate random point x between the number of points.\n",
        "3. Generate random point y between the number of points.\n",
        "4. Calculate d = x*x + y*y.\n",
        "5. If d <= r**2, increment circle_points.\n",
        "6. Increment square_points.\n",
        "7. Increment interval.\n",
        "8. If finished interval, Calculate pi = 4*(circle_points/square_points or number of points).\n",
        "9. Terminate."
      ]
    },
    {
      "cell_type": "code",
      "metadata": {
        "id": "Hnp1JdXDbm5k",
        "colab_type": "code",
        "colab": {}
      },
      "source": [
        "import numpy.random as rn\n",
        "import math"
      ],
      "execution_count": null,
      "outputs": []
    },
    {
      "cell_type": "code",
      "metadata": {
        "id": "q18LG7muj-mP",
        "colab_type": "code",
        "colab": {}
      },
      "source": [
        "def question14(number_of_drops,radius = 1):\n",
        "    d = radius**2\n",
        "    point_in_circle = 0\n",
        "    for i in range(0,number_of_drops):\n",
        "        x = rn.uniform(-radius,radius)\n",
        "        y = rn.uniform(-radius,radius)\n",
        "        dist = x**2+y**2\n",
        "        if dist<=d:\n",
        "            point_in_circle += 1\n",
        "    return f\"Final Estimation Of Pi: {4*(point_in_circle/number_of_drops):.3f}. Actual Estimation of Pi: {math.pi:.3f}\""
      ],
      "execution_count": null,
      "outputs": []
    },
    {
      "cell_type": "code",
      "metadata": {
        "id": "eapTb83sqeOp",
        "colab_type": "code",
        "colab": {
          "base_uri": "https://localhost:8080/",
          "height": 35
        },
        "outputId": "97d48b04-ff24-4006-81a3-02086cb79cb2"
      },
      "source": [
        "question14(500000,1)"
      ],
      "execution_count": null,
      "outputs": [
        {
          "output_type": "execute_result",
          "data": {
            "application/vnd.google.colaboratory.intrinsic": {
              "type": "string"
            },
            "text/plain": [
              "'Final Estimation Of Pi: 3.141. Actual Estimation of Pi: 3.142'"
            ]
          },
          "metadata": {
            "tags": []
          },
          "execution_count": 50
        }
      ]
    },
    {
      "cell_type": "markdown",
      "metadata": {
        "id": "hjXu0hepxJZO",
        "colab_type": "text"
      },
      "source": [
        "### Question 15\n",
        "\n",
        "This problem was asked by Facebook.\n",
        "\n",
        "Given a stream of elements too large to store in memory, pick a random element from the\n",
        "stream with uniform probability."
      ]
    },
    {
      "cell_type": "code",
      "metadata": {
        "id": "SeltVBC24blp",
        "colab_type": "code",
        "colab": {}
      },
      "source": [
        "import random"
      ],
      "execution_count": 1,
      "outputs": []
    },
    {
      "cell_type": "markdown",
      "metadata": {
        "id": "rrltP0mMgMdq",
        "colab_type": "text"
      },
      "source": [
        "Hint:\n",
        "\n",
        "Let’s work through the problem of uniformly picking a random element from a gigantic stream. This is a common interview question at companies like Google and Facebook.\n",
        "\n",
        "Naively, we could process the stream and store all the elements we encounter in a list, find its size, and pick a random element from [0, size - 1]. The problem with this approach is that it would take O(N) space for a large N.\n",
        "\n",
        "Instead, let’s attempt to solve using loop invariants. On the ith iteration of our loop to pick a random element, let’s assume we already picked an element uniformly from [0, i - 1]. In order to maintain the loop invariant, we would need to pick the ith element as the new random element at 1 / (i + 1) chance. For the base case where i = 0, let’s say the random element is the first one. Then we know it works because\n",
        "\n",
        "1. For i = 0, we would’ve picked uniformly from [0, 0].\n",
        "2. For i > 0, before the loop began, any element K in [0, i - 1] had 1 / i chance of being chosen as the random element. We want K to have 1 / (i + 1) chance of being chosen after the iteration. This is the case since the chance of having being chosen already but not getting swapped with the ith element is\n",
        "1 / i * (1 - (1 / (i + 1))) which is 1 / i * i / (i + 1) or 1 / (i + 1)"
      ]
    },
    {
      "cell_type": "markdown",
      "metadata": {
        "id": "1XX8zdaK4QxT",
        "colab_type": "text"
      },
      "source": [
        "#### Method 1"
      ]
    },
    {
      "cell_type": "code",
      "metadata": {
        "id": "duTr_TOTtD67",
        "colab_type": "code",
        "colab": {}
      },
      "source": [
        "def question15_method1(Huge_stream_of_list):\n",
        "    return random.choice(Huge_stream_of_list)"
      ],
      "execution_count": 2,
      "outputs": []
    },
    {
      "cell_type": "code",
      "metadata": {
        "id": "KSBJhrqbA2SO",
        "colab_type": "code",
        "colab": {
          "base_uri": "https://localhost:8080/",
          "height": 34
        },
        "outputId": "ed6df446-0ac1-4bdb-e0dd-a18392eee2e7"
      },
      "source": [
        "huge = [i for i in range(1,1000001)]\n",
        "question15_method1(huge)"
      ],
      "execution_count": 11,
      "outputs": [
        {
          "output_type": "execute_result",
          "data": {
            "text/plain": [
              "41125"
            ]
          },
          "metadata": {
            "tags": []
          },
          "execution_count": 11
        }
      ]
    },
    {
      "cell_type": "markdown",
      "metadata": {
        "id": "z5fq9oBU4me4",
        "colab_type": "text"
      },
      "source": [
        "#### Method 2"
      ]
    },
    {
      "cell_type": "code",
      "metadata": {
        "id": "TXhBLWAd4l0S",
        "colab_type": "code",
        "colab": {}
      },
      "source": [
        "def question15_method2(big_stream):\n",
        "    random_element = None\n",
        "\n",
        "    for i, e in enumerate(big_stream):\n",
        "        if i == 0:\n",
        "            random_element = e\n",
        "        elif random.randint(1, i + 1) == 1:\n",
        "            random_element = e\n",
        "    return random_element"
      ],
      "execution_count": 5,
      "outputs": []
    },
    {
      "cell_type": "code",
      "metadata": {
        "id": "lJFdxLTKjH3Z",
        "colab_type": "code",
        "colab": {
          "base_uri": "https://localhost:8080/",
          "height": 34
        },
        "outputId": "1ebc57bd-652d-47e5-9c0f-701b287de4e5"
      },
      "source": [
        "question15_method2(huge)"
      ],
      "execution_count": 8,
      "outputs": [
        {
          "output_type": "execute_result",
          "data": {
            "text/plain": [
              "553898"
            ]
          },
          "metadata": {
            "tags": []
          },
          "execution_count": 8
        }
      ]
    },
    {
      "cell_type": "code",
      "metadata": {
        "id": "KoVRqd1LjPdr",
        "colab_type": "code",
        "colab": {}
      },
      "source": [
        ""
      ],
      "execution_count": null,
      "outputs": []
    }
  ]
}