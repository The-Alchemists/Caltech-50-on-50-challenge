{
  "nbformat": 4,
  "nbformat_minor": 0,
  "metadata": {
    "colab": {
      "name": "Manish #Caltech 50 on 50",
      "provenance": [],
      "collapsed_sections": [],
      "authorship_tag": "ABX9TyPk+hMDS9tpCLVkgcxw0Aha",
      "include_colab_link": true
    },
    "kernelspec": {
      "name": "python3",
      "display_name": "Python 3"
    }
  },
  "cells": [
    {
      "cell_type": "markdown",
      "metadata": {
        "id": "view-in-github",
        "colab_type": "text"
      },
      "source": [
        "<a href=\"https://colab.research.google.com/github/The-Alchemists/Caltech-50-on-50-challenge/blob/master/Manish_Caltech_50_on_50.ipynb\" target=\"_parent\"><img src=\"https://colab.research.google.com/assets/colab-badge.svg\" alt=\"Open In Colab\"/></a>"
      ]
    },
    {
      "cell_type": "markdown",
      "metadata": {
        "id": "HQJ_50OxCGVi",
        "colab_type": "text"
      },
      "source": [
        "#1st "
      ]
    },
    {
      "cell_type": "code",
      "metadata": {
        "id": "wTRIiPbQ9bHv",
        "colab_type": "code",
        "colab": {
          "base_uri": "https://localhost:8080/",
          "height": 34
        },
        "outputId": "9899bdd2-8f13-438c-adca-e2989a69f756"
      },
      "source": [
        "def sum(array,k):\n",
        "\tsolution = set() \n",
        "\tfor x in array:\n",
        "\t\tif x in solution: \n",
        "\t\t\treturn True\n",
        "\t\tsolution.add(k-x)\n",
        "    \n",
        "\treturn False\n",
        "\n",
        "c =sum([10,15,3,7], 17)\n",
        "print (c)"
      ],
      "execution_count": null,
      "outputs": [
        {
          "output_type": "stream",
          "text": [
            "True\n"
          ],
          "name": "stdout"
        }
      ]
    },
    {
      "cell_type": "markdown",
      "metadata": {
        "id": "vXlOnNzOCMn_",
        "colab_type": "text"
      },
      "source": [
        "#2"
      ]
    },
    {
      "cell_type": "code",
      "metadata": {
        "id": "FD6NN_UpCNxT",
        "colab_type": "code",
        "colab": {
          "base_uri": "https://localhost:8080/",
          "height": 86
        },
        "outputId": "61c883f4-906c-4598-b976-a64f8a834315"
      },
      "source": [
        "def get_factors(array):\n",
        "    product = 1\n",
        "    r_prod_array = list()\n",
        "    for num in array:\n",
        "        product *= num\n",
        "        r_prod_array.append(product)\n",
        "    print (r_prod_array)\n",
        "    \n",
        "    product = 1\n",
        "    l_prod_array = list()\n",
        "    for num in array[::-1]:\n",
        "        product *= num\n",
        "        l_prod_array.append(product)\n",
        "    print(l_prod_array)\n",
        "    \n",
        "    l_prod_array = l_prod_array[::-1]\n",
        "    print (l_prod_array)\n",
        "    \n",
        "    output= list()\n",
        "    for i in range(len(array)):\n",
        "        num = None\n",
        "        if i == 0:\n",
        "            num = l_prod_array[i + 1]\n",
        "        elif i == len(array) - 1:\n",
        "            num = r_prod_array[i - 1]\n",
        "        else:\n",
        "            num = r_prod_array[i - 1] * l_prod_array[i + 1]\n",
        "        output.append(num)\n",
        "    \n",
        "    return output\n",
        "\n",
        "\n",
        "get_factors([1, 2, 3, 4, 5]) == [120, 60, 40, 30, 24]\n",
        "#print(\"----------------------------------------------------------\")\n",
        "#get_factors([3, 2, 1]) == [2, 3, 6]"
      ],
      "execution_count": null,
      "outputs": [
        {
          "output_type": "stream",
          "text": [
            "[1, 2, 6, 24, 120]\n",
            "[5, 20, 60, 120, 120]\n",
            "[120, 120, 60, 20, 5]\n"
          ],
          "name": "stdout"
        },
        {
          "output_type": "execute_result",
          "data": {
            "text/plain": [
              "True"
            ]
          },
          "metadata": {
            "tags": []
          },
          "execution_count": 24
        }
      ]
    },
    {
      "cell_type": "markdown",
      "metadata": {
        "id": "i0t2MyWQjfTg",
        "colab_type": "text"
      },
      "source": [
        "#3"
      ]
    },
    {
      "cell_type": "code",
      "metadata": {
        "id": "7M5w96_ajgsm",
        "colab_type": "code",
        "colab": {
          "base_uri": "https://localhost:8080/",
          "height": 72
        },
        "outputId": "3d882973-120a-4dcd-f760-354d380e5769"
      },
      "source": [
        "import json\n",
        "#creating a tree \n",
        "class Node:\n",
        "    def __init__(self, data):\n",
        "        self.data = data\n",
        "        self.left = None\n",
        "        self.right = None\n",
        "    \n",
        "    def __repr__(self):\n",
        "        return str(self.data)\n",
        "\n",
        "def serialize(root):\n",
        "    if not root:\n",
        "        return None\n",
        "\n",
        "    serialized_tree = dict()\n",
        "    serialized_l = serialize(root.left)\n",
        "    serialized_r = serialize(root.right)\n",
        "\n",
        "    serialized_tree['data'] = root.data\n",
        "    if serialized_l:\n",
        "        serialized_tree['left'] = serialized_l\n",
        "    if serialized_r:\n",
        "        serialized_tree['right'] = serialized_r\n",
        "\n",
        "    return json.dumps(serialized_tree)\n",
        "\n",
        "\n",
        "def deserialize(s):\n",
        "    serialized_tree = json.loads(s)\n",
        "\n",
        "    node = Node(serialized_tree['data'])\n",
        "    if 'left' in serialized_tree:\n",
        "        node.left = deserialize(serialized_tree['left'])\n",
        "    if 'right' in serialized_tree:\n",
        "        node.right = deserialize(serialized_tree['right'])\n",
        "\n",
        "    return node\n",
        "\n",
        "\n",
        "a = Node('a')\n",
        "b = Node('b')\n",
        "c = Node('c')\n",
        "d = Node('d')\n",
        "e = Node('e')\n",
        "f = Node('f')\n",
        "g = Node('g')\n",
        "a.left = b\n",
        "a.right = c\n",
        "b.left = d\n",
        "b.right = e\n",
        "c.left = f\n",
        "c.right = g\n",
        "\n",
        "serialized_a = serialize(a)\n",
        "print(serialized_a)\n",
        "\n",
        "deserialized_a = deserialize(serialized_a)\n",
        "str(deserialized_a) == \"a\""
      ],
      "execution_count": null,
      "outputs": [
        {
          "output_type": "stream",
          "text": [
            "{\"data\": \"a\", \"left\": \"{\\\"data\\\": \\\"b\\\", \\\"left\\\": \\\"{\\\\\\\"data\\\\\\\": \\\\\\\"d\\\\\\\"}\\\", \\\"right\\\": \\\"{\\\\\\\"data\\\\\\\": \\\\\\\"e\\\\\\\"}\\\"}\", \"right\": \"{\\\"data\\\": \\\"c\\\", \\\"left\\\": \\\"{\\\\\\\"data\\\\\\\": \\\\\\\"f\\\\\\\"}\\\", \\\"right\\\": \\\"{\\\\\\\"data\\\\\\\": \\\\\\\"g\\\\\\\"}\\\"}\"}\n"
          ],
          "name": "stdout"
        },
        {
          "output_type": "execute_result",
          "data": {
            "text/plain": [
              "True"
            ]
          },
          "metadata": {
            "tags": []
          },
          "execution_count": 40
        }
      ]
    },
    {
      "cell_type": "markdown",
      "metadata": {
        "id": "Epo_gZ5ltpd9",
        "colab_type": "text"
      },
      "source": [
        "#4"
      ]
    },
    {
      "cell_type": "code",
      "metadata": {
        "id": "AnP1c31ZtqxR",
        "colab_type": "code",
        "colab": {
          "base_uri": "https://localhost:8080/",
          "height": 85
        },
        "outputId": "a1b54d39-880a-4893-f72e-01e0900634a9"
      },
      "source": [
        "def positive_only(array):\n",
        "    i = 0\n",
        "    j = len(array) - 1\n",
        "\n",
        "    while i < j:\n",
        "        if array[i] > 0 and array[j] <= 0:\n",
        "            array[i], array[j] = array[j], array[i]\n",
        "            i += 1\n",
        "            j -= 1\n",
        "        elif array[i] > 0:\n",
        "            j -= 1\n",
        "        else:\n",
        "            i += 1\n",
        "\n",
        "    print(\"i: {}, j: {}\".format(i, j))\n",
        "    print(\"partitioned_array:\", array)\n",
        "    pivot = i if array[i] > 0 else i + 1\n",
        "    return array[pivot:]\n",
        "\n",
        "\n",
        "def get_missing_number(array):\n",
        "    if not array:\n",
        "        return 1\n",
        "\n",
        "    array = positive_only(array)\n",
        "    print(\"array: {}\".format(array))\n",
        "\n",
        "    if not array:\n",
        "        return 1\n",
        "\n",
        "    if max(array) == len(array):    \n",
        "        return max(array) + 1\n",
        "\n",
        "get_missing_number([-1, -2, 1, 2]) == 3\n",
        "#get_missing_number([3, 4, -1, 1]) == 2"
      ],
      "execution_count": 7,
      "outputs": [
        {
          "output_type": "stream",
          "text": [
            "i: 2, j: 2\n",
            "partitioned_array: [-1, -2, 1, 2]\n",
            "array: [1, 2]\n"
          ],
          "name": "stdout"
        },
        {
          "output_type": "execute_result",
          "data": {
            "text/plain": [
              "True"
            ]
          },
          "metadata": {
            "tags": []
          },
          "execution_count": 7
        }
      ]
    },
    {
      "cell_type": "markdown",
      "metadata": {
        "id": "7vhi-38Vu81f",
        "colab_type": "text"
      },
      "source": [
        "#5"
      ]
    },
    {
      "cell_type": "code",
      "metadata": {
        "id": "LTW3kGR0u-GC",
        "colab_type": "code",
        "colab": {
          "base_uri": "https://localhost:8080/",
          "height": 51
        },
        "outputId": "77ae5a86-3a40-4bbc-f954-c50f93bc3ec1"
      },
      "source": [
        "x = lambda a, b : a * b\n",
        "print(x(5, 6))\n",
        "\n",
        "def cons(a, b):\n",
        "    return lambda f: f(a, b)\n",
        "\n",
        "def car(f):\n",
        "    z = lambda x, y: x\n",
        "    return f(z)\n",
        "\n",
        "def cdr(f):\n",
        "    z = lambda x, y: y\n",
        "    return f(z)\n",
        "\n",
        "car(cons(3, 4)) == 3\n",
        "cdr(cons(3, 4)) == 4"
      ],
      "execution_count": 9,
      "outputs": [
        {
          "output_type": "stream",
          "text": [
            "30\n"
          ],
          "name": "stdout"
        },
        {
          "output_type": "execute_result",
          "data": {
            "text/plain": [
              "True"
            ]
          },
          "metadata": {
            "tags": []
          },
          "execution_count": 9
        }
      ]
    },
    {
      "cell_type": "markdown",
      "metadata": {
        "id": "yFLnoDtszis6",
        "colab_type": "text"
      },
      "source": [
        "#6"
      ]
    },
    {
      "cell_type": "code",
      "metadata": {
        "id": "29sOHXHLx6zc",
        "colab_type": "code",
        "colab": {}
      },
      "source": [
        "class Node:\n",
        "    def __init__(self, data):\n",
        "        self.data = data\n",
        "        self.both = id(data)\n",
        "\n",
        "    def __repr__(self):\n",
        "        return str(self.data)\n",
        "\n",
        "a = Node(\"a\")\n",
        "b = Node(\"b\")\n"
      ],
      "execution_count": null,
      "outputs": []
    }
  ]
}