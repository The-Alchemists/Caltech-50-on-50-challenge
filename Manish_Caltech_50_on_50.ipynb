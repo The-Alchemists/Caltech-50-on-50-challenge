{
  "nbformat": 4,
  "nbformat_minor": 0,
  "metadata": {
    "colab": {
      "name": "Manish #Caltech 50 on 50",
      "provenance": [],
      "collapsed_sections": [],
      "authorship_tag": "ABX9TyOfd+vsKLf63fIi1V8ishG2",
      "include_colab_link": true
    },
    "kernelspec": {
      "name": "python3",
      "display_name": "Python 3"
    }
  },
  "cells": [
    {
      "cell_type": "markdown",
      "metadata": {
        "id": "view-in-github",
        "colab_type": "text"
      },
      "source": [
        "<a href=\"https://colab.research.google.com/github/The-Alchemists/Caltech-50-on-50-challenge/blob/master/Manish_Caltech_50_on_50.ipynb\" target=\"_parent\"><img src=\"https://colab.research.google.com/assets/colab-badge.svg\" alt=\"Open In Colab\"/></a>"
      ]
    },
    {
      "cell_type": "markdown",
      "metadata": {
        "id": "HQJ_50OxCGVi",
        "colab_type": "text"
      },
      "source": [
        "#1st "
      ]
    },
    {
      "cell_type": "code",
      "metadata": {
        "id": "wTRIiPbQ9bHv",
        "colab_type": "code",
        "colab": {
          "base_uri": "https://localhost:8080/",
          "height": 34
        },
        "outputId": "9899bdd2-8f13-438c-adca-e2989a69f756"
      },
      "source": [
        "def sum(array,k):\n",
        "\tsolution = set() \n",
        "\tfor x in array:\n",
        "\t\tif x in solution: \n",
        "\t\t\treturn True\n",
        "\t\tsolution.add(k-x)\n",
        "    \n",
        "\treturn False\n",
        "\n",
        "c =sum([10,15,3,7], 17)\n",
        "print (c)"
      ],
      "execution_count": 7,
      "outputs": [
        {
          "output_type": "stream",
          "text": [
            "True\n"
          ],
          "name": "stdout"
        }
      ]
    },
    {
      "cell_type": "markdown",
      "metadata": {
        "id": "vXlOnNzOCMn_",
        "colab_type": "text"
      },
      "source": [
        "#2"
      ]
    },
    {
      "cell_type": "code",
      "metadata": {
        "id": "FD6NN_UpCNxT",
        "colab_type": "code",
        "colab": {
          "base_uri": "https://localhost:8080/",
          "height": 121
        },
        "outputId": "6234d3d5-32b2-4ea9-897a-445381b09023"
      },
      "source": [
        "def get_factors(array):\n",
        "    product = 1\n",
        "    r_prod_array = list()\n",
        "    for num in array:\n",
        "        product *= num\n",
        "        r_prod_array.append(product)\n",
        "    print (r_prod_array)\n",
        "    product = 1\n",
        "    l_prod_array = list()\n",
        "    for num in array[::-1]:\n",
        "        product *= num\n",
        "        l_prod_array.append(product)\n",
        "    l_prod_array = l_prod_array[::-1]\n",
        "    print (l_prod_array)\n",
        "    output= list()\n",
        "    for i in range(len(array)):\n",
        "        num = None\n",
        "        if i == 0:\n",
        "            num = l_prod_array[i + 1]\n",
        "        elif i == len(array) - 1:\n",
        "            num = r_prod_array[i - 1]\n",
        "        else:\n",
        "            num = r_prod_array[i - 1] * l_prod_array[i + 1]\n",
        "        output.append(num)\n",
        "    \n",
        "    return output\n",
        "\n",
        "\n",
        "get_factors([1, 2, 3, 4, 5]) == [120, 60, 40, 30, 24]\n",
        "print(\"----------------------------------------------------------\")\n",
        "get_factors([3, 2, 1]) == [2, 3, 6]"
      ],
      "execution_count": 19,
      "outputs": [
        {
          "output_type": "stream",
          "text": [
            "[1, 2, 6, 24, 120]\n",
            "[120, 120, 60, 20, 5]\n",
            "----------------------------------------------------------\n",
            "[3, 6, 6]\n",
            "[6, 2, 1]\n"
          ],
          "name": "stdout"
        },
        {
          "output_type": "execute_result",
          "data": {
            "text/plain": [
              "True"
            ]
          },
          "metadata": {
            "tags": []
          },
          "execution_count": 19
        }
      ]
    },
    {
      "cell_type": "code",
      "metadata": {
        "id": "H9iyn-7iEPp8",
        "colab_type": "code",
        "colab": {}
      },
      "source": [
        ""
      ],
      "execution_count": null,
      "outputs": []
    }
  ]
}