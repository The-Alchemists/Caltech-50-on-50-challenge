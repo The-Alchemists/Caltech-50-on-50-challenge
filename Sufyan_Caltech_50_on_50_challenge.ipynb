{
  "nbformat": 4,
  "nbformat_minor": 0,
  "metadata": {
    "kernelspec": {
      "display_name": "Python 3",
      "language": "python",
      "name": "python3"
    },
    "language_info": {
      "codemirror_mode": {
        "name": "ipython",
        "version": 3
      },
      "file_extension": ".py",
      "mimetype": "text/x-python",
      "name": "python",
      "nbconvert_exporter": "python",
      "pygments_lexer": "ipython3",
      "version": "3.7.7"
    },
    "colab": {
      "name": "Sufyan_Caltech_50_on_50_challenge.ipynb",
      "provenance": [],
      "include_colab_link": true
    }
  },
  "cells": [
    {
      "cell_type": "markdown",
      "metadata": {
        "id": "view-in-github",
        "colab_type": "text"
      },
      "source": [
        "<a href=\"https://colab.research.google.com/github/The-Alchemists/Caltech-50-on-50-challenge/blob/master/Sufyan_Caltech_50_on_50_challenge.ipynb\" target=\"_parent\"><img src=\"https://colab.research.google.com/assets/colab-badge.svg\" alt=\"Open In Colab\"/></a>"
      ]
    },
    {
      "cell_type": "markdown",
      "metadata": {
        "id": "4o6aOhw4Tn9N",
        "colab_type": "text"
      },
      "source": [
        "Q.01 Given a list of numbers, return whether any two sums to k.\n",
        "For example, given [10, 15, 3, 7] and k of 17, return true since 10 + 7 is 17.\n",
        "\n",
        "Bonus: Can you do this in one pass?"
      ]
    },
    {
      "cell_type": "code",
      "metadata": {
        "id": "UEMmAd0iTn9Q",
        "colab_type": "code",
        "colab": {}
      },
      "source": [
        "def sums(nums, k):\n",
        "    for i in range(len(nums) - 1):\n",
        "        ka = nums[i]\n",
        "        for j in range(i+1, len(nums)):\n",
        "            if(ka + nums[j] == k):\n",
        "                return True"
      ],
      "execution_count": null,
      "outputs": []
    },
    {
      "cell_type": "code",
      "metadata": {
        "id": "HkdpU_nLTn9X",
        "colab_type": "code",
        "colab": {},
        "outputId": "3e4cf84b-e743-4401-b3a4-0b14ce7ab859"
      },
      "source": [
        "sums([10, 15, 3, 7], 17)"
      ],
      "execution_count": null,
      "outputs": [
        {
          "output_type": "execute_result",
          "data": {
            "text/plain": [
              "True"
            ]
          },
          "metadata": {
            "tags": []
          },
          "execution_count": 6
        }
      ]
    },
    {
      "cell_type": "markdown",
      "metadata": {
        "id": "CzXVyrEqTpsx",
        "colab_type": "text"
      },
      "source": [
        "Q. 02 \n",
        "Given an array of integers, return a new array such that each element at index i of the new array\n",
        "is the product of all the numbers in the original array except the one at i.\n",
        "For example, if our input was [1, 2, 3, 4, 5], the expected output would be [120, 60, 40, 30, 24].\n",
        "If our input was [3, 2, 1], the expected output would be [2, 3, 6].\n",
        "\n"
      ]
    },
    {
      "cell_type": "code",
      "metadata": {
        "id": "3tDb6DiZTn9b",
        "colab_type": "code",
        "colab": {
          "base_uri": "https://localhost:8080/",
          "height": 34
        },
        "outputId": "37b2099b-6e05-4b25-94ef-cf874985008e"
      },
      "source": [
        "a = [3,2,1]\n",
        "b = a.copy()\n",
        "res = []\n",
        "for i in range(len(a)): \n",
        "  b = a.copy()\n",
        "  b.pop(i)\n",
        "  t = 1\n",
        "  for j in b:\n",
        "    t *= j\n",
        "  res.append(t)\n",
        "print(res)"
      ],
      "execution_count": null,
      "outputs": [
        {
          "output_type": "stream",
          "text": [
            "[2, 3, 6]\n"
          ],
          "name": "stdout"
        }
      ]
    },
    {
      "cell_type": "markdown",
      "metadata": {
        "id": "2WHbnu2hSFVu",
        "colab_type": "text"
      },
      "source": [
        "Q. 03"
      ]
    },
    {
      "cell_type": "code",
      "metadata": {
        "id": "NyzgvT_FX8W1",
        "colab_type": "code",
        "colab": {}
      },
      "source": [
        "class Node:\n",
        "    def __init__(self, data):\n",
        "        self.data = data\n",
        "        self.left = None\n",
        "        self.right = None\n",
        "    \n",
        "    def __repr__(self):\n",
        "        return str(self.data)"
      ],
      "execution_count": null,
      "outputs": []
    },
    {
      "cell_type": "code",
      "metadata": {
        "id": "uzLjWmBx3psV",
        "colab_type": "code",
        "colab": {}
      },
      "source": [
        "a = Node(\"a\")\n",
        "b = Node(\"b\")\n",
        "c = Node(\"c\")\n",
        "d = Node(\"d\")\n",
        "e = Node(\"e\")\n",
        "f = Node(\"f\")\n",
        "g = Node(\"g\")\n",
        "a.left = b\n",
        "a.right = c\n",
        "b.left = d\n",
        "b.right = e\n",
        "c.left = f\n",
        "c.right = g"
      ],
      "execution_count": null,
      "outputs": []
    },
    {
      "cell_type": "code",
      "metadata": {
        "id": "a6w1RwAv4Qx7",
        "colab_type": "code",
        "colab": {}
      },
      "source": [
        "def serialize(root):\n",
        "    if not root:\n",
        "        return None\n",
        "\n",
        "    serialized_tree = dict()\n",
        "    serialized_l = serialize(root.left)\n",
        "    serialized_r = serialize(root.right)\n",
        "\n",
        "    serialized_tree['data'] = root.data\n",
        "    if serialized_l:\n",
        "        serialized_tree['left'] = serialized_l\n",
        "    if serialized_r:\n",
        "        serialized_tree['right'] = serialized_r\n",
        "\n",
        "    return json.dumps(serialized_tree)"
      ],
      "execution_count": null,
      "outputs": []
    },
    {
      "cell_type": "code",
      "metadata": {
        "id": "ks9qrAJJ81vx",
        "colab_type": "code",
        "colab": {}
      },
      "source": [
        "def deserialize(s):\n",
        "    serialized_tree = json.loads(s)\n",
        "\n",
        "    node = Node(serialized_tree['data'])\n",
        "    if 'left' in serialized_tree:\n",
        "        node.left = deserialize(serialized_tree['left'])\n",
        "    if 'right' in serialized_tree:\n",
        "        node.right = deserialize(serialized_tree['right'])\n",
        "\n",
        "    return node,serialized_tree"
      ],
      "execution_count": null,
      "outputs": []
    },
    {
      "cell_type": "code",
      "metadata": {
        "id": "3p56ddHTBE2C",
        "colab_type": "code",
        "colab": {
          "base_uri": "https://localhost:8080/",
          "height": 54
        },
        "outputId": "f0b3304d-ecde-4dae-808c-b9a53896ea62"
      },
      "source": [
        "serialize(a)"
      ],
      "execution_count": null,
      "outputs": [
        {
          "output_type": "execute_result",
          "data": {
            "text/plain": [
              "'{\"data\": \"a\", \"left\": \"{\\\\\"data\\\\\": \\\\\"b\\\\\", \\\\\"left\\\\\": \\\\\"{\\\\\\\\\\\\\"data\\\\\\\\\\\\\": \\\\\\\\\\\\\"d\\\\\\\\\\\\\"}\\\\\", \\\\\"right\\\\\": \\\\\"{\\\\\\\\\\\\\"data\\\\\\\\\\\\\": \\\\\\\\\\\\\"e\\\\\\\\\\\\\"}\\\\\"}\", \"right\": \"{\\\\\"data\\\\\": \\\\\"c\\\\\", \\\\\"left\\\\\": \\\\\"{\\\\\\\\\\\\\"data\\\\\\\\\\\\\": \\\\\\\\\\\\\"f\\\\\\\\\\\\\"}\\\\\", \\\\\"right\\\\\": \\\\\"{\\\\\\\\\\\\\"data\\\\\\\\\\\\\": \\\\\\\\\\\\\"g\\\\\\\\\\\\\"}\\\\\"}\"}'"
            ]
          },
          "metadata": {
            "tags": []
          },
          "execution_count": 33
        }
      ]
    },
    {
      "cell_type": "code",
      "metadata": {
        "id": "yq5gagd9BHT6",
        "colab_type": "code",
        "colab": {}
      },
      "source": [
        "import json"
      ],
      "execution_count": null,
      "outputs": []
    },
    {
      "cell_type": "markdown",
      "metadata": {
        "id": "OiARKA4oCu-T",
        "colab_type": "text"
      },
      "source": [
        "Q. 04 Given an array of integers, find the first missing positive integer in linear time and constant\n",
        "space. In other words, find the lowest positive integer that does not exist in the array. The array\n",
        "can contain duplicates and negative numbers as well.\n",
        "For example, the input [3, 4, -1, 1] should give 2. The input [1, 2, 0] should give 3"
      ]
    },
    {
      "cell_type": "code",
      "metadata": {
        "id": "XWGc4eVZBJpL",
        "colab_type": "code",
        "colab": {
          "base_uri": "https://localhost:8080/",
          "height": 34
        },
        "outputId": "98fa4d47-61c6-43c1-c95f-bceb74fec53d"
      },
      "source": [
        "def find(arr):\n",
        "  num = []\n",
        "  for i in range(1,len(arr)+10):\n",
        "    num.append(i)\n",
        "  arr = list(set(arr))\n",
        "  for i in num:\n",
        "    if i not in arr:\n",
        "      print(i)\n",
        "      break\n",
        "find([3,4,1,-1])"
      ],
      "execution_count": null,
      "outputs": [
        {
          "output_type": "stream",
          "text": [
            "2\n"
          ],
          "name": "stdout"
        }
      ]
    },
    {
      "cell_type": "code",
      "metadata": {
        "id": "eYSTtcp1S8Xq",
        "colab_type": "code",
        "colab": {
          "base_uri": "https://localhost:8080/",
          "height": 51
        },
        "outputId": "62b6eb3c-ba7f-4dc3-88fc-858d37cefa65"
      },
      "source": [
        "a = [1,2,3,4,5]\n",
        "b = [1,5,7,8]\n",
        "\n",
        "for i in b:\n",
        "  if i in a:\n",
        "    print(i)"
      ],
      "execution_count": null,
      "outputs": [
        {
          "output_type": "stream",
          "text": [
            "1\n",
            "5\n"
          ],
          "name": "stdout"
        }
      ]
    },
    {
      "cell_type": "code",
      "metadata": {
        "id": "86TSVI9QZzmS",
        "colab_type": "code",
        "colab": {}
      },
      "source": [
        ""
      ],
      "execution_count": null,
      "outputs": []
    }
  ]
}